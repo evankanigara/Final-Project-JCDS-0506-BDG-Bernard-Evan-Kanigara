{
 "cells": [
  {
   "cell_type": "code",
   "execution_count": 1,
   "metadata": {},
   "outputs": [],
   "source": [
    "import numpy as np \n",
    "import pandas as pd \n",
    "import matplotlib.pyplot as plt\n",
    "import seaborn as sns"
   ]
  },
  {
   "cell_type": "code",
   "execution_count": 2,
   "metadata": {},
   "outputs": [],
   "source": [
    "from imblearn.pipeline import Pipeline\n",
    "from sklearn.preprocessing import PolynomialFeatures, StandardScaler, OneHotEncoder"
   ]
  },
  {
   "cell_type": "code",
   "execution_count": 122,
   "metadata": {},
   "outputs": [],
   "source": [
    "from sklearn.impute import SimpleImputer\n",
    "from sklearn.decomposition import PCA\n",
    "from sklearn.compose import ColumnTransformer\n",
    "from sklearn.feature_selection import SelectPercentile, univariate_selection, RFE\n",
    "from sklearn.linear_model import LogisticRegression\n",
    "from imblearn.over_sampling import RandomOverSampler, SMOTE\n",
    "from sklearn.model_selection import train_test_split, RandomizedSearchCV, GridSearchCV, cross_val_score, RepeatedStratifiedKFold,\\\n",
    "StratifiedKFold\n",
    "from sklearn.tree import DecisionTreeClassifier\n",
    "from sklearn.neighbors import KNeighborsClassifier\n",
    "from sklearn.metrics import classification_report \n",
    "from sklearn.metrics import confusion_matrix \n",
    "from sklearn.ensemble import RandomForestClassifier, VotingClassifier\n",
    "from imblearn.ensemble import BalancedRandomForestClassifier\n",
    "from sklearn.experimental import enable_hist_gradient_boosting  # noqa\n",
    "from sklearn.ensemble import HistGradientBoostingClassifier\n",
    "from imblearn.ensemble import BalancedBaggingClassifier"
   ]
  },
  {
   "cell_type": "code",
   "execution_count": 4,
   "metadata": {},
   "outputs": [
    {
     "data": {
      "text/html": [
       "<div>\n",
       "<style scoped>\n",
       "    .dataframe tbody tr th:only-of-type {\n",
       "        vertical-align: middle;\n",
       "    }\n",
       "\n",
       "    .dataframe tbody tr th {\n",
       "        vertical-align: top;\n",
       "    }\n",
       "\n",
       "    .dataframe thead th {\n",
       "        text-align: right;\n",
       "    }\n",
       "</style>\n",
       "<table border=\"1\" class=\"dataframe\">\n",
       "  <thead>\n",
       "    <tr style=\"text-align: right;\">\n",
       "      <th></th>\n",
       "      <th>Age</th>\n",
       "      <th>Attrition</th>\n",
       "      <th>BusinessTravel</th>\n",
       "      <th>DailyRate</th>\n",
       "      <th>Department</th>\n",
       "      <th>DistanceFromHome</th>\n",
       "      <th>Education</th>\n",
       "      <th>EducationField</th>\n",
       "      <th>EmployeeCount</th>\n",
       "      <th>EmployeeNumber</th>\n",
       "      <th>...</th>\n",
       "      <th>RelationshipSatisfaction</th>\n",
       "      <th>StandardHours</th>\n",
       "      <th>StockOptionLevel</th>\n",
       "      <th>TotalWorkingYears</th>\n",
       "      <th>TrainingTimesLastYear</th>\n",
       "      <th>WorkLifeBalance</th>\n",
       "      <th>YearsAtCompany</th>\n",
       "      <th>YearsInCurrentRole</th>\n",
       "      <th>YearsSinceLastPromotion</th>\n",
       "      <th>YearsWithCurrManager</th>\n",
       "    </tr>\n",
       "  </thead>\n",
       "  <tbody>\n",
       "    <tr>\n",
       "      <th>0</th>\n",
       "      <td>41</td>\n",
       "      <td>Yes</td>\n",
       "      <td>Travel_Rarely</td>\n",
       "      <td>1102.0</td>\n",
       "      <td>Sales</td>\n",
       "      <td>1</td>\n",
       "      <td>2</td>\n",
       "      <td>Life Sciences</td>\n",
       "      <td>1</td>\n",
       "      <td>1</td>\n",
       "      <td>...</td>\n",
       "      <td>1</td>\n",
       "      <td>80</td>\n",
       "      <td>0</td>\n",
       "      <td>8</td>\n",
       "      <td>0</td>\n",
       "      <td>1</td>\n",
       "      <td>6</td>\n",
       "      <td>4</td>\n",
       "      <td>0</td>\n",
       "      <td>5</td>\n",
       "    </tr>\n",
       "    <tr>\n",
       "      <th>1</th>\n",
       "      <td>49</td>\n",
       "      <td>No</td>\n",
       "      <td>Travel_Frequently</td>\n",
       "      <td>279.0</td>\n",
       "      <td>Research &amp; Development</td>\n",
       "      <td>8</td>\n",
       "      <td>1</td>\n",
       "      <td>Life Sciences</td>\n",
       "      <td>1</td>\n",
       "      <td>2</td>\n",
       "      <td>...</td>\n",
       "      <td>4</td>\n",
       "      <td>80</td>\n",
       "      <td>1</td>\n",
       "      <td>10</td>\n",
       "      <td>3</td>\n",
       "      <td>3</td>\n",
       "      <td>10</td>\n",
       "      <td>7</td>\n",
       "      <td>1</td>\n",
       "      <td>7</td>\n",
       "    </tr>\n",
       "    <tr>\n",
       "      <th>2</th>\n",
       "      <td>37</td>\n",
       "      <td>Yes</td>\n",
       "      <td>Travel_Rarely</td>\n",
       "      <td>1373.0</td>\n",
       "      <td>Research &amp; Development</td>\n",
       "      <td>2</td>\n",
       "      <td>2</td>\n",
       "      <td>Other</td>\n",
       "      <td>1</td>\n",
       "      <td>4</td>\n",
       "      <td>...</td>\n",
       "      <td>2</td>\n",
       "      <td>80</td>\n",
       "      <td>0</td>\n",
       "      <td>7</td>\n",
       "      <td>3</td>\n",
       "      <td>3</td>\n",
       "      <td>0</td>\n",
       "      <td>0</td>\n",
       "      <td>0</td>\n",
       "      <td>0</td>\n",
       "    </tr>\n",
       "    <tr>\n",
       "      <th>3</th>\n",
       "      <td>33</td>\n",
       "      <td>No</td>\n",
       "      <td>Travel_Frequently</td>\n",
       "      <td>1392.0</td>\n",
       "      <td>Research &amp; Development</td>\n",
       "      <td>3</td>\n",
       "      <td>4</td>\n",
       "      <td>Life Sciences</td>\n",
       "      <td>1</td>\n",
       "      <td>5</td>\n",
       "      <td>...</td>\n",
       "      <td>3</td>\n",
       "      <td>80</td>\n",
       "      <td>0</td>\n",
       "      <td>8</td>\n",
       "      <td>3</td>\n",
       "      <td>3</td>\n",
       "      <td>8</td>\n",
       "      <td>7</td>\n",
       "      <td>3</td>\n",
       "      <td>0</td>\n",
       "    </tr>\n",
       "    <tr>\n",
       "      <th>4</th>\n",
       "      <td>27</td>\n",
       "      <td>No</td>\n",
       "      <td>Travel_Rarely</td>\n",
       "      <td>591.0</td>\n",
       "      <td>Research &amp; Development</td>\n",
       "      <td>2</td>\n",
       "      <td>1</td>\n",
       "      <td>Medical</td>\n",
       "      <td>1</td>\n",
       "      <td>7</td>\n",
       "      <td>...</td>\n",
       "      <td>4</td>\n",
       "      <td>80</td>\n",
       "      <td>1</td>\n",
       "      <td>6</td>\n",
       "      <td>3</td>\n",
       "      <td>3</td>\n",
       "      <td>2</td>\n",
       "      <td>2</td>\n",
       "      <td>2</td>\n",
       "      <td>2</td>\n",
       "    </tr>\n",
       "    <tr>\n",
       "      <th>...</th>\n",
       "      <td>...</td>\n",
       "      <td>...</td>\n",
       "      <td>...</td>\n",
       "      <td>...</td>\n",
       "      <td>...</td>\n",
       "      <td>...</td>\n",
       "      <td>...</td>\n",
       "      <td>...</td>\n",
       "      <td>...</td>\n",
       "      <td>...</td>\n",
       "      <td>...</td>\n",
       "      <td>...</td>\n",
       "      <td>...</td>\n",
       "      <td>...</td>\n",
       "      <td>...</td>\n",
       "      <td>...</td>\n",
       "      <td>...</td>\n",
       "      <td>...</td>\n",
       "      <td>...</td>\n",
       "      <td>...</td>\n",
       "      <td>...</td>\n",
       "    </tr>\n",
       "    <tr>\n",
       "      <th>1465</th>\n",
       "      <td>36</td>\n",
       "      <td>No</td>\n",
       "      <td>Travel_Frequently</td>\n",
       "      <td>884.0</td>\n",
       "      <td>Research &amp; Development</td>\n",
       "      <td>23</td>\n",
       "      <td>2</td>\n",
       "      <td>Medical</td>\n",
       "      <td>1</td>\n",
       "      <td>2061</td>\n",
       "      <td>...</td>\n",
       "      <td>3</td>\n",
       "      <td>80</td>\n",
       "      <td>1</td>\n",
       "      <td>17</td>\n",
       "      <td>3</td>\n",
       "      <td>3</td>\n",
       "      <td>5</td>\n",
       "      <td>2</td>\n",
       "      <td>0</td>\n",
       "      <td>3</td>\n",
       "    </tr>\n",
       "    <tr>\n",
       "      <th>1466</th>\n",
       "      <td>39</td>\n",
       "      <td>No</td>\n",
       "      <td>Travel_Rarely</td>\n",
       "      <td>613.0</td>\n",
       "      <td>Research &amp; Development</td>\n",
       "      <td>6</td>\n",
       "      <td>1</td>\n",
       "      <td>Medical</td>\n",
       "      <td>1</td>\n",
       "      <td>2062</td>\n",
       "      <td>...</td>\n",
       "      <td>1</td>\n",
       "      <td>80</td>\n",
       "      <td>1</td>\n",
       "      <td>9</td>\n",
       "      <td>5</td>\n",
       "      <td>3</td>\n",
       "      <td>7</td>\n",
       "      <td>7</td>\n",
       "      <td>1</td>\n",
       "      <td>7</td>\n",
       "    </tr>\n",
       "    <tr>\n",
       "      <th>1467</th>\n",
       "      <td>27</td>\n",
       "      <td>No</td>\n",
       "      <td>Travel_Rarely</td>\n",
       "      <td>155.0</td>\n",
       "      <td>Research &amp; Development</td>\n",
       "      <td>4</td>\n",
       "      <td>3</td>\n",
       "      <td>Life Sciences</td>\n",
       "      <td>1</td>\n",
       "      <td>2064</td>\n",
       "      <td>...</td>\n",
       "      <td>2</td>\n",
       "      <td>80</td>\n",
       "      <td>1</td>\n",
       "      <td>6</td>\n",
       "      <td>0</td>\n",
       "      <td>3</td>\n",
       "      <td>6</td>\n",
       "      <td>2</td>\n",
       "      <td>0</td>\n",
       "      <td>3</td>\n",
       "    </tr>\n",
       "    <tr>\n",
       "      <th>1468</th>\n",
       "      <td>49</td>\n",
       "      <td>No</td>\n",
       "      <td>Travel_Frequently</td>\n",
       "      <td>1023.0</td>\n",
       "      <td>Sales</td>\n",
       "      <td>2</td>\n",
       "      <td>3</td>\n",
       "      <td>Medical</td>\n",
       "      <td>1</td>\n",
       "      <td>2065</td>\n",
       "      <td>...</td>\n",
       "      <td>4</td>\n",
       "      <td>80</td>\n",
       "      <td>0</td>\n",
       "      <td>17</td>\n",
       "      <td>3</td>\n",
       "      <td>2</td>\n",
       "      <td>9</td>\n",
       "      <td>6</td>\n",
       "      <td>0</td>\n",
       "      <td>8</td>\n",
       "    </tr>\n",
       "    <tr>\n",
       "      <th>1469</th>\n",
       "      <td>34</td>\n",
       "      <td>No</td>\n",
       "      <td>Travel_Rarely</td>\n",
       "      <td>628.0</td>\n",
       "      <td>Research &amp; Development</td>\n",
       "      <td>8</td>\n",
       "      <td>3</td>\n",
       "      <td>Medical</td>\n",
       "      <td>1</td>\n",
       "      <td>2068</td>\n",
       "      <td>...</td>\n",
       "      <td>1</td>\n",
       "      <td>80</td>\n",
       "      <td>0</td>\n",
       "      <td>6</td>\n",
       "      <td>3</td>\n",
       "      <td>4</td>\n",
       "      <td>4</td>\n",
       "      <td>3</td>\n",
       "      <td>1</td>\n",
       "      <td>2</td>\n",
       "    </tr>\n",
       "  </tbody>\n",
       "</table>\n",
       "<p>1470 rows × 35 columns</p>\n",
       "</div>"
      ],
      "text/plain": [
       "      Age Attrition     BusinessTravel  DailyRate              Department  \\\n",
       "0      41       Yes      Travel_Rarely     1102.0                   Sales   \n",
       "1      49        No  Travel_Frequently      279.0  Research & Development   \n",
       "2      37       Yes      Travel_Rarely     1373.0  Research & Development   \n",
       "3      33        No  Travel_Frequently     1392.0  Research & Development   \n",
       "4      27        No      Travel_Rarely      591.0  Research & Development   \n",
       "...   ...       ...                ...        ...                     ...   \n",
       "1465   36        No  Travel_Frequently      884.0  Research & Development   \n",
       "1466   39        No      Travel_Rarely      613.0  Research & Development   \n",
       "1467   27        No      Travel_Rarely      155.0  Research & Development   \n",
       "1468   49        No  Travel_Frequently     1023.0                   Sales   \n",
       "1469   34        No      Travel_Rarely      628.0  Research & Development   \n",
       "\n",
       "      DistanceFromHome  Education EducationField  EmployeeCount  \\\n",
       "0                    1          2  Life Sciences              1   \n",
       "1                    8          1  Life Sciences              1   \n",
       "2                    2          2          Other              1   \n",
       "3                    3          4  Life Sciences              1   \n",
       "4                    2          1        Medical              1   \n",
       "...                ...        ...            ...            ...   \n",
       "1465                23          2        Medical              1   \n",
       "1466                 6          1        Medical              1   \n",
       "1467                 4          3  Life Sciences              1   \n",
       "1468                 2          3        Medical              1   \n",
       "1469                 8          3        Medical              1   \n",
       "\n",
       "      EmployeeNumber  ...  RelationshipSatisfaction StandardHours  \\\n",
       "0                  1  ...                         1            80   \n",
       "1                  2  ...                         4            80   \n",
       "2                  4  ...                         2            80   \n",
       "3                  5  ...                         3            80   \n",
       "4                  7  ...                         4            80   \n",
       "...              ...  ...                       ...           ...   \n",
       "1465            2061  ...                         3            80   \n",
       "1466            2062  ...                         1            80   \n",
       "1467            2064  ...                         2            80   \n",
       "1468            2065  ...                         4            80   \n",
       "1469            2068  ...                         1            80   \n",
       "\n",
       "      StockOptionLevel  TotalWorkingYears  TrainingTimesLastYear  \\\n",
       "0                    0                  8                      0   \n",
       "1                    1                 10                      3   \n",
       "2                    0                  7                      3   \n",
       "3                    0                  8                      3   \n",
       "4                    1                  6                      3   \n",
       "...                ...                ...                    ...   \n",
       "1465                 1                 17                      3   \n",
       "1466                 1                  9                      5   \n",
       "1467                 1                  6                      0   \n",
       "1468                 0                 17                      3   \n",
       "1469                 0                  6                      3   \n",
       "\n",
       "     WorkLifeBalance  YearsAtCompany YearsInCurrentRole  \\\n",
       "0                  1               6                  4   \n",
       "1                  3              10                  7   \n",
       "2                  3               0                  0   \n",
       "3                  3               8                  7   \n",
       "4                  3               2                  2   \n",
       "...              ...             ...                ...   \n",
       "1465               3               5                  2   \n",
       "1466               3               7                  7   \n",
       "1467               3               6                  2   \n",
       "1468               2               9                  6   \n",
       "1469               4               4                  3   \n",
       "\n",
       "      YearsSinceLastPromotion  YearsWithCurrManager  \n",
       "0                           0                     5  \n",
       "1                           1                     7  \n",
       "2                           0                     0  \n",
       "3                           3                     0  \n",
       "4                           2                     2  \n",
       "...                       ...                   ...  \n",
       "1465                        0                     3  \n",
       "1466                        1                     7  \n",
       "1467                        0                     3  \n",
       "1468                        0                     8  \n",
       "1469                        1                     2  \n",
       "\n",
       "[1470 rows x 35 columns]"
      ]
     },
     "execution_count": 4,
     "metadata": {},
     "output_type": "execute_result"
    }
   ],
   "source": [
    "df = pd.read_csv('ibm1.csv')\n",
    "df"
   ]
  },
  {
   "cell_type": "code",
   "execution_count": 5,
   "metadata": {},
   "outputs": [],
   "source": [
    "df['Attrition']=pd.Series(np.where(df.Attrition.values == 'Yes', 1, 0))"
   ]
  },
  {
   "cell_type": "code",
   "execution_count": 6,
   "metadata": {},
   "outputs": [
    {
     "data": {
      "text/html": [
       "<div>\n",
       "<style scoped>\n",
       "    .dataframe tbody tr th:only-of-type {\n",
       "        vertical-align: middle;\n",
       "    }\n",
       "\n",
       "    .dataframe tbody tr th {\n",
       "        vertical-align: top;\n",
       "    }\n",
       "\n",
       "    .dataframe thead th {\n",
       "        text-align: right;\n",
       "    }\n",
       "</style>\n",
       "<table border=\"1\" class=\"dataframe\">\n",
       "  <thead>\n",
       "    <tr style=\"text-align: right;\">\n",
       "      <th></th>\n",
       "      <th>Age</th>\n",
       "      <th>Attrition</th>\n",
       "      <th>BusinessTravel</th>\n",
       "      <th>DailyRate</th>\n",
       "      <th>Department</th>\n",
       "      <th>DistanceFromHome</th>\n",
       "      <th>Education</th>\n",
       "      <th>EducationField</th>\n",
       "      <th>EmployeeNumber</th>\n",
       "      <th>EnvironmentSatisfaction</th>\n",
       "      <th>...</th>\n",
       "      <th>PerformanceRating</th>\n",
       "      <th>RelationshipSatisfaction</th>\n",
       "      <th>StockOptionLevel</th>\n",
       "      <th>TotalWorkingYears</th>\n",
       "      <th>TrainingTimesLastYear</th>\n",
       "      <th>WorkLifeBalance</th>\n",
       "      <th>YearsAtCompany</th>\n",
       "      <th>YearsInCurrentRole</th>\n",
       "      <th>YearsSinceLastPromotion</th>\n",
       "      <th>YearsWithCurrManager</th>\n",
       "    </tr>\n",
       "  </thead>\n",
       "  <tbody>\n",
       "    <tr>\n",
       "      <th>0</th>\n",
       "      <td>41</td>\n",
       "      <td>1</td>\n",
       "      <td>Travel_Rarely</td>\n",
       "      <td>1102.0</td>\n",
       "      <td>Sales</td>\n",
       "      <td>1</td>\n",
       "      <td>2</td>\n",
       "      <td>Life Sciences</td>\n",
       "      <td>1</td>\n",
       "      <td>2</td>\n",
       "      <td>...</td>\n",
       "      <td>3</td>\n",
       "      <td>1</td>\n",
       "      <td>0</td>\n",
       "      <td>8</td>\n",
       "      <td>0</td>\n",
       "      <td>1</td>\n",
       "      <td>6</td>\n",
       "      <td>4</td>\n",
       "      <td>0</td>\n",
       "      <td>5</td>\n",
       "    </tr>\n",
       "    <tr>\n",
       "      <th>1</th>\n",
       "      <td>49</td>\n",
       "      <td>0</td>\n",
       "      <td>Travel_Frequently</td>\n",
       "      <td>279.0</td>\n",
       "      <td>Research &amp; Development</td>\n",
       "      <td>8</td>\n",
       "      <td>1</td>\n",
       "      <td>Life Sciences</td>\n",
       "      <td>2</td>\n",
       "      <td>3</td>\n",
       "      <td>...</td>\n",
       "      <td>4</td>\n",
       "      <td>4</td>\n",
       "      <td>1</td>\n",
       "      <td>10</td>\n",
       "      <td>3</td>\n",
       "      <td>3</td>\n",
       "      <td>10</td>\n",
       "      <td>7</td>\n",
       "      <td>1</td>\n",
       "      <td>7</td>\n",
       "    </tr>\n",
       "    <tr>\n",
       "      <th>2</th>\n",
       "      <td>37</td>\n",
       "      <td>1</td>\n",
       "      <td>Travel_Rarely</td>\n",
       "      <td>1373.0</td>\n",
       "      <td>Research &amp; Development</td>\n",
       "      <td>2</td>\n",
       "      <td>2</td>\n",
       "      <td>Other</td>\n",
       "      <td>4</td>\n",
       "      <td>4</td>\n",
       "      <td>...</td>\n",
       "      <td>3</td>\n",
       "      <td>2</td>\n",
       "      <td>0</td>\n",
       "      <td>7</td>\n",
       "      <td>3</td>\n",
       "      <td>3</td>\n",
       "      <td>0</td>\n",
       "      <td>0</td>\n",
       "      <td>0</td>\n",
       "      <td>0</td>\n",
       "    </tr>\n",
       "    <tr>\n",
       "      <th>3</th>\n",
       "      <td>33</td>\n",
       "      <td>0</td>\n",
       "      <td>Travel_Frequently</td>\n",
       "      <td>1392.0</td>\n",
       "      <td>Research &amp; Development</td>\n",
       "      <td>3</td>\n",
       "      <td>4</td>\n",
       "      <td>Life Sciences</td>\n",
       "      <td>5</td>\n",
       "      <td>4</td>\n",
       "      <td>...</td>\n",
       "      <td>3</td>\n",
       "      <td>3</td>\n",
       "      <td>0</td>\n",
       "      <td>8</td>\n",
       "      <td>3</td>\n",
       "      <td>3</td>\n",
       "      <td>8</td>\n",
       "      <td>7</td>\n",
       "      <td>3</td>\n",
       "      <td>0</td>\n",
       "    </tr>\n",
       "    <tr>\n",
       "      <th>4</th>\n",
       "      <td>27</td>\n",
       "      <td>0</td>\n",
       "      <td>Travel_Rarely</td>\n",
       "      <td>591.0</td>\n",
       "      <td>Research &amp; Development</td>\n",
       "      <td>2</td>\n",
       "      <td>1</td>\n",
       "      <td>Medical</td>\n",
       "      <td>7</td>\n",
       "      <td>1</td>\n",
       "      <td>...</td>\n",
       "      <td>3</td>\n",
       "      <td>4</td>\n",
       "      <td>1</td>\n",
       "      <td>6</td>\n",
       "      <td>3</td>\n",
       "      <td>3</td>\n",
       "      <td>2</td>\n",
       "      <td>2</td>\n",
       "      <td>2</td>\n",
       "      <td>2</td>\n",
       "    </tr>\n",
       "  </tbody>\n",
       "</table>\n",
       "<p>5 rows × 33 columns</p>\n",
       "</div>"
      ],
      "text/plain": [
       "   Age  Attrition     BusinessTravel  DailyRate              Department  \\\n",
       "0   41          1      Travel_Rarely     1102.0                   Sales   \n",
       "1   49          0  Travel_Frequently      279.0  Research & Development   \n",
       "2   37          1      Travel_Rarely     1373.0  Research & Development   \n",
       "3   33          0  Travel_Frequently     1392.0  Research & Development   \n",
       "4   27          0      Travel_Rarely      591.0  Research & Development   \n",
       "\n",
       "   DistanceFromHome  Education EducationField  EmployeeNumber  \\\n",
       "0                 1          2  Life Sciences               1   \n",
       "1                 8          1  Life Sciences               2   \n",
       "2                 2          2          Other               4   \n",
       "3                 3          4  Life Sciences               5   \n",
       "4                 2          1        Medical               7   \n",
       "\n",
       "   EnvironmentSatisfaction  ... PerformanceRating  RelationshipSatisfaction  \\\n",
       "0                        2  ...                 3                         1   \n",
       "1                        3  ...                 4                         4   \n",
       "2                        4  ...                 3                         2   \n",
       "3                        4  ...                 3                         3   \n",
       "4                        1  ...                 3                         4   \n",
       "\n",
       "   StockOptionLevel  TotalWorkingYears TrainingTimesLastYear  WorkLifeBalance  \\\n",
       "0                 0                  8                     0                1   \n",
       "1                 1                 10                     3                3   \n",
       "2                 0                  7                     3                3   \n",
       "3                 0                  8                     3                3   \n",
       "4                 1                  6                     3                3   \n",
       "\n",
       "  YearsAtCompany  YearsInCurrentRole  YearsSinceLastPromotion  \\\n",
       "0              6                   4                        0   \n",
       "1             10                   7                        1   \n",
       "2              0                   0                        0   \n",
       "3              8                   7                        3   \n",
       "4              2                   2                        2   \n",
       "\n",
       "   YearsWithCurrManager  \n",
       "0                     5  \n",
       "1                     7  \n",
       "2                     0  \n",
       "3                     0  \n",
       "4                     2  \n",
       "\n",
       "[5 rows x 33 columns]"
      ]
     },
     "execution_count": 6,
     "metadata": {},
     "output_type": "execute_result"
    }
   ],
   "source": [
    "df = df.drop(['EmployeeCount','StandardHours'], axis=1).copy()\n",
    "df.head()"
   ]
  },
  {
   "cell_type": "code",
   "execution_count": 7,
   "metadata": {},
   "outputs": [
    {
     "data": {
      "text/plain": [
       "Index(['Age', 'Attrition', 'BusinessTravel', 'DailyRate', 'Department',\n",
       "       'DistanceFromHome', 'Education', 'EducationField', 'EmployeeNumber',\n",
       "       'EnvironmentSatisfaction', 'Gender', 'HourlyRate', 'JobInvolvement',\n",
       "       'JobLevel', 'JobRole', 'JobSatisfaction', 'MaritalStatus',\n",
       "       'MonthlyIncome', 'MonthlyRate', 'NumCompaniesWorked', 'Over18',\n",
       "       'OverTime', 'PercentSalaryHike', 'PerformanceRating',\n",
       "       'RelationshipSatisfaction', 'StockOptionLevel', 'TotalWorkingYears',\n",
       "       'TrainingTimesLastYear', 'WorkLifeBalance', 'YearsAtCompany',\n",
       "       'YearsInCurrentRole', 'YearsSinceLastPromotion',\n",
       "       'YearsWithCurrManager'],\n",
       "      dtype='object')"
      ]
     },
     "execution_count": 7,
     "metadata": {},
     "output_type": "execute_result"
    }
   ],
   "source": [
    "df.columns"
   ]
  },
  {
   "cell_type": "code",
   "execution_count": 8,
   "metadata": {},
   "outputs": [],
   "source": [
    "one_hot_cols=['BusinessTravel','Department','EducationField','Gender','JobRole','OverTime']"
   ]
  },
  {
   "cell_type": "markdown",
   "metadata": {},
   "source": [
    "# Pipeline"
   ]
  },
  {
   "cell_type": "code",
   "execution_count": 9,
   "metadata": {},
   "outputs": [],
   "source": [
    "logit = LogisticRegression(random_state=2021)\n",
    "smote = SMOTE()"
   ]
  },
  {
   "cell_type": "code",
   "execution_count": 10,
   "metadata": {},
   "outputs": [],
   "source": [
    "dtc = DecisionTreeClassifier(max_depth=8, random_state=2021)"
   ]
  },
  {
   "cell_type": "markdown",
   "metadata": {},
   "source": [
    "# Nama Fitur"
   ]
  },
  {
   "cell_type": "code",
   "execution_count": 11,
   "metadata": {},
   "outputs": [
    {
     "data": {
      "text/plain": [
       "['Age',\n",
       " 'Attrition',\n",
       " 'BusinessTravel',\n",
       " 'DailyRate',\n",
       " 'Department',\n",
       " 'DistanceFromHome',\n",
       " 'Education',\n",
       " 'EducationField',\n",
       " 'EmployeeNumber',\n",
       " 'EnvironmentSatisfaction',\n",
       " 'Gender',\n",
       " 'HourlyRate',\n",
       " 'JobInvolvement',\n",
       " 'JobLevel',\n",
       " 'JobRole',\n",
       " 'JobSatisfaction',\n",
       " 'MaritalStatus',\n",
       " 'MonthlyIncome',\n",
       " 'MonthlyRate',\n",
       " 'NumCompaniesWorked',\n",
       " 'Over18',\n",
       " 'OverTime',\n",
       " 'PercentSalaryHike',\n",
       " 'PerformanceRating',\n",
       " 'RelationshipSatisfaction',\n",
       " 'StockOptionLevel',\n",
       " 'TotalWorkingYears',\n",
       " 'TrainingTimesLastYear',\n",
       " 'WorkLifeBalance',\n",
       " 'YearsAtCompany',\n",
       " 'YearsInCurrentRole',\n",
       " 'YearsSinceLastPromotion',\n",
       " 'YearsWithCurrManager']"
      ]
     },
     "execution_count": 11,
     "metadata": {},
     "output_type": "execute_result"
    }
   ],
   "source": [
    "test_list1=df.columns.tolist()\n",
    "test_list1"
   ]
  },
  {
   "cell_type": "code",
   "execution_count": 12,
   "metadata": {},
   "outputs": [
    {
     "data": {
      "text/plain": [
       "['BusinessTravel',\n",
       " 'Department',\n",
       " 'EducationField',\n",
       " 'Gender',\n",
       " 'JobRole',\n",
       " 'OverTime']"
      ]
     },
     "execution_count": 12,
     "metadata": {},
     "output_type": "execute_result"
    }
   ],
   "source": [
    "test_list2=one_hot_cols.copy()\n",
    "test_list2"
   ]
  },
  {
   "cell_type": "code",
   "execution_count": 13,
   "metadata": {},
   "outputs": [],
   "source": [
    "test_list3='DailyRate', 'HourlyRate','MaritalStatus','MonthlyIncome','JobLevel','YearsAtCompany','YearsInCurrentRole','YearsSinceLastPromotion','YearsWithCurrManager'"
   ]
  },
  {
   "cell_type": "code",
   "execution_count": 14,
   "metadata": {},
   "outputs": [
    {
     "data": {
      "text/plain": [
       "['BusinessTravel',\n",
       " 'Department',\n",
       " 'EducationField',\n",
       " 'Gender',\n",
       " 'JobRole',\n",
       " 'OverTime',\n",
       " 'DailyRate',\n",
       " 'HourlyRate',\n",
       " 'MaritalStatus',\n",
       " 'MonthlyIncome',\n",
       " 'JobLevel',\n",
       " 'YearsAtCompany',\n",
       " 'YearsInCurrentRole',\n",
       " 'YearsSinceLastPromotion',\n",
       " 'YearsWithCurrManager']"
      ]
     },
     "execution_count": 14,
     "metadata": {},
     "output_type": "execute_result"
    }
   ],
   "source": [
    "test_list2.extend(test_list3)\n",
    "test_list2"
   ]
  },
  {
   "cell_type": "code",
   "execution_count": 15,
   "metadata": {},
   "outputs": [
    {
     "data": {
      "text/plain": [
       "['BusinessTravel',\n",
       " 'Department',\n",
       " 'EducationField',\n",
       " 'Gender',\n",
       " 'JobRole',\n",
       " 'OverTime',\n",
       " 'DailyRate',\n",
       " 'HourlyRate',\n",
       " 'MaritalStatus',\n",
       " 'MonthlyIncome',\n",
       " 'JobLevel',\n",
       " 'YearsAtCompany',\n",
       " 'YearsInCurrentRole',\n",
       " 'YearsSinceLastPromotion',\n",
       " 'YearsWithCurrManager']"
      ]
     },
     "execution_count": 15,
     "metadata": {},
     "output_type": "execute_result"
    }
   ],
   "source": [
    "test_list2"
   ]
  },
  {
   "cell_type": "code",
   "execution_count": 16,
   "metadata": {},
   "outputs": [
    {
     "data": {
      "text/plain": [
       "['Age',\n",
       " 'Attrition',\n",
       " 'BusinessTravel',\n",
       " 'DailyRate',\n",
       " 'Department',\n",
       " 'DistanceFromHome',\n",
       " 'Education',\n",
       " 'EducationField',\n",
       " 'EmployeeNumber',\n",
       " 'EnvironmentSatisfaction',\n",
       " 'Gender',\n",
       " 'HourlyRate',\n",
       " 'JobInvolvement',\n",
       " 'JobLevel',\n",
       " 'JobRole',\n",
       " 'JobSatisfaction',\n",
       " 'MaritalStatus',\n",
       " 'MonthlyIncome',\n",
       " 'MonthlyRate',\n",
       " 'NumCompaniesWorked',\n",
       " 'Over18',\n",
       " 'OverTime',\n",
       " 'PercentSalaryHike',\n",
       " 'PerformanceRating',\n",
       " 'RelationshipSatisfaction',\n",
       " 'StockOptionLevel',\n",
       " 'TotalWorkingYears',\n",
       " 'TrainingTimesLastYear',\n",
       " 'WorkLifeBalance',\n",
       " 'YearsAtCompany',\n",
       " 'YearsInCurrentRole',\n",
       " 'YearsSinceLastPromotion',\n",
       " 'YearsWithCurrManager']"
      ]
     },
     "execution_count": 16,
     "metadata": {},
     "output_type": "execute_result"
    }
   ],
   "source": [
    "res = [ele for ele in test_list1] \n",
    "res"
   ]
  },
  {
   "cell_type": "code",
   "execution_count": 17,
   "metadata": {},
   "outputs": [],
   "source": [
    "for a in test_list2: \n",
    "    if a in test_list1: \n",
    "        res.remove(a) "
   ]
  },
  {
   "cell_type": "code",
   "execution_count": 18,
   "metadata": {},
   "outputs": [
    {
     "data": {
      "text/plain": [
       "['Age',\n",
       " 'Attrition',\n",
       " 'DistanceFromHome',\n",
       " 'Education',\n",
       " 'EmployeeNumber',\n",
       " 'EnvironmentSatisfaction',\n",
       " 'JobInvolvement',\n",
       " 'JobSatisfaction',\n",
       " 'MonthlyRate',\n",
       " 'NumCompaniesWorked',\n",
       " 'Over18',\n",
       " 'PercentSalaryHike',\n",
       " 'PerformanceRating',\n",
       " 'RelationshipSatisfaction',\n",
       " 'StockOptionLevel',\n",
       " 'TotalWorkingYears',\n",
       " 'TrainingTimesLastYear',\n",
       " 'WorkLifeBalance']"
      ]
     },
     "execution_count": 18,
     "metadata": {},
     "output_type": "execute_result"
    }
   ],
   "source": [
    "res"
   ]
  },
  {
   "cell_type": "code",
   "execution_count": 19,
   "metadata": {},
   "outputs": [],
   "source": [
    "contoh=[]\n",
    "gakada=[]\n",
    "for a in test_list2:\n",
    "    if a in test_list1: \n",
    "        contoh.append(a)\n",
    "    else:\n",
    "        gakada.append(a)\n"
   ]
  },
  {
   "cell_type": "code",
   "execution_count": 20,
   "metadata": {},
   "outputs": [
    {
     "data": {
      "text/plain": [
       "['BusinessTravel',\n",
       " 'Department',\n",
       " 'EducationField',\n",
       " 'Gender',\n",
       " 'JobRole',\n",
       " 'OverTime',\n",
       " 'DailyRate',\n",
       " 'HourlyRate',\n",
       " 'MaritalStatus',\n",
       " 'MonthlyIncome',\n",
       " 'JobLevel',\n",
       " 'YearsAtCompany',\n",
       " 'YearsInCurrentRole',\n",
       " 'YearsSinceLastPromotion',\n",
       " 'YearsWithCurrManager']"
      ]
     },
     "execution_count": 20,
     "metadata": {},
     "output_type": "execute_result"
    }
   ],
   "source": [
    "contoh"
   ]
  },
  {
   "cell_type": "code",
   "execution_count": 21,
   "metadata": {},
   "outputs": [
    {
     "data": {
      "text/plain": [
       "['Age',\n",
       " 'Attrition',\n",
       " 'DistanceFromHome',\n",
       " 'Education',\n",
       " 'EmployeeNumber',\n",
       " 'EnvironmentSatisfaction',\n",
       " 'JobInvolvement',\n",
       " 'JobSatisfaction',\n",
       " 'MonthlyRate',\n",
       " 'NumCompaniesWorked',\n",
       " 'Over18',\n",
       " 'PercentSalaryHike',\n",
       " 'PerformanceRating',\n",
       " 'RelationshipSatisfaction',\n",
       " 'StockOptionLevel',\n",
       " 'TotalWorkingYears',\n",
       " 'TrainingTimesLastYear',\n",
       " 'WorkLifeBalance']"
      ]
     },
     "execution_count": 21,
     "metadata": {},
     "output_type": "execute_result"
    }
   ],
   "source": [
    "res"
   ]
  },
  {
   "cell_type": "code",
   "execution_count": 22,
   "metadata": {},
   "outputs": [],
   "source": [
    "def report(df):\n",
    "    col = []\n",
    "    d_type = []\n",
    "    uniques = []\n",
    "    n_uniques = []\n",
    "    \n",
    "    for i in res:\n",
    "        col.append(i)\n",
    "        d_type.append(df[i].dtypes)\n",
    "        uniques.append(df[i].unique()[:5])\n",
    "        n_uniques.append(df[i].nunique())\n",
    "    \n",
    "    return pd.DataFrame({'Column': col, 'd_type': d_type, 'unique_sample': uniques, 'n_uniques': n_uniques})"
   ]
  },
  {
   "cell_type": "code",
   "execution_count": 23,
   "metadata": {},
   "outputs": [],
   "source": [
    "summary_sisa=report(df)"
   ]
  },
  {
   "cell_type": "code",
   "execution_count": 24,
   "metadata": {},
   "outputs": [
    {
     "data": {
      "text/html": [
       "<div>\n",
       "<style scoped>\n",
       "    .dataframe tbody tr th:only-of-type {\n",
       "        vertical-align: middle;\n",
       "    }\n",
       "\n",
       "    .dataframe tbody tr th {\n",
       "        vertical-align: top;\n",
       "    }\n",
       "\n",
       "    .dataframe thead th {\n",
       "        text-align: right;\n",
       "    }\n",
       "</style>\n",
       "<table border=\"1\" class=\"dataframe\">\n",
       "  <thead>\n",
       "    <tr style=\"text-align: right;\">\n",
       "      <th></th>\n",
       "      <th>Column</th>\n",
       "      <th>d_type</th>\n",
       "      <th>unique_sample</th>\n",
       "      <th>n_uniques</th>\n",
       "    </tr>\n",
       "  </thead>\n",
       "  <tbody>\n",
       "    <tr>\n",
       "      <th>0</th>\n",
       "      <td>Age</td>\n",
       "      <td>int64</td>\n",
       "      <td>[41, 49, 37, 33, 27]</td>\n",
       "      <td>43</td>\n",
       "    </tr>\n",
       "    <tr>\n",
       "      <th>1</th>\n",
       "      <td>Attrition</td>\n",
       "      <td>int32</td>\n",
       "      <td>[1, 0]</td>\n",
       "      <td>2</td>\n",
       "    </tr>\n",
       "    <tr>\n",
       "      <th>2</th>\n",
       "      <td>DistanceFromHome</td>\n",
       "      <td>int64</td>\n",
       "      <td>[1, 8, 2, 3, 24]</td>\n",
       "      <td>29</td>\n",
       "    </tr>\n",
       "    <tr>\n",
       "      <th>3</th>\n",
       "      <td>Education</td>\n",
       "      <td>int64</td>\n",
       "      <td>[2, 1, 4, 3, 5]</td>\n",
       "      <td>5</td>\n",
       "    </tr>\n",
       "    <tr>\n",
       "      <th>4</th>\n",
       "      <td>EmployeeNumber</td>\n",
       "      <td>int64</td>\n",
       "      <td>[1, 2, 4, 5, 7]</td>\n",
       "      <td>1470</td>\n",
       "    </tr>\n",
       "    <tr>\n",
       "      <th>5</th>\n",
       "      <td>EnvironmentSatisfaction</td>\n",
       "      <td>int64</td>\n",
       "      <td>[2, 3, 4, 1]</td>\n",
       "      <td>4</td>\n",
       "    </tr>\n",
       "    <tr>\n",
       "      <th>6</th>\n",
       "      <td>JobInvolvement</td>\n",
       "      <td>int64</td>\n",
       "      <td>[3, 2, 4, 1]</td>\n",
       "      <td>4</td>\n",
       "    </tr>\n",
       "    <tr>\n",
       "      <th>7</th>\n",
       "      <td>JobSatisfaction</td>\n",
       "      <td>int64</td>\n",
       "      <td>[4, 2, 3, 1]</td>\n",
       "      <td>4</td>\n",
       "    </tr>\n",
       "    <tr>\n",
       "      <th>8</th>\n",
       "      <td>MonthlyRate</td>\n",
       "      <td>int64</td>\n",
       "      <td>[19479, 24907, 2396, 23159, 16632]</td>\n",
       "      <td>1427</td>\n",
       "    </tr>\n",
       "    <tr>\n",
       "      <th>9</th>\n",
       "      <td>NumCompaniesWorked</td>\n",
       "      <td>int64</td>\n",
       "      <td>[8, 1, 6, 9, 0]</td>\n",
       "      <td>10</td>\n",
       "    </tr>\n",
       "    <tr>\n",
       "      <th>10</th>\n",
       "      <td>Over18</td>\n",
       "      <td>object</td>\n",
       "      <td>[Y]</td>\n",
       "      <td>1</td>\n",
       "    </tr>\n",
       "    <tr>\n",
       "      <th>11</th>\n",
       "      <td>PercentSalaryHike</td>\n",
       "      <td>int64</td>\n",
       "      <td>[11, 23, 15, 12, 13]</td>\n",
       "      <td>15</td>\n",
       "    </tr>\n",
       "    <tr>\n",
       "      <th>12</th>\n",
       "      <td>PerformanceRating</td>\n",
       "      <td>int64</td>\n",
       "      <td>[3, 4]</td>\n",
       "      <td>2</td>\n",
       "    </tr>\n",
       "    <tr>\n",
       "      <th>13</th>\n",
       "      <td>RelationshipSatisfaction</td>\n",
       "      <td>int64</td>\n",
       "      <td>[1, 4, 2, 3]</td>\n",
       "      <td>4</td>\n",
       "    </tr>\n",
       "    <tr>\n",
       "      <th>14</th>\n",
       "      <td>StockOptionLevel</td>\n",
       "      <td>int64</td>\n",
       "      <td>[0, 1, 3, 2]</td>\n",
       "      <td>4</td>\n",
       "    </tr>\n",
       "    <tr>\n",
       "      <th>15</th>\n",
       "      <td>TotalWorkingYears</td>\n",
       "      <td>int64</td>\n",
       "      <td>[8, 10, 7, 6, 12]</td>\n",
       "      <td>40</td>\n",
       "    </tr>\n",
       "    <tr>\n",
       "      <th>16</th>\n",
       "      <td>TrainingTimesLastYear</td>\n",
       "      <td>int64</td>\n",
       "      <td>[0, 3, 2, 5, 1]</td>\n",
       "      <td>7</td>\n",
       "    </tr>\n",
       "    <tr>\n",
       "      <th>17</th>\n",
       "      <td>WorkLifeBalance</td>\n",
       "      <td>int64</td>\n",
       "      <td>[1, 3, 2, 4]</td>\n",
       "      <td>4</td>\n",
       "    </tr>\n",
       "  </tbody>\n",
       "</table>\n",
       "</div>"
      ],
      "text/plain": [
       "                      Column  d_type                       unique_sample  \\\n",
       "0                        Age   int64                [41, 49, 37, 33, 27]   \n",
       "1                  Attrition   int32                              [1, 0]   \n",
       "2           DistanceFromHome   int64                    [1, 8, 2, 3, 24]   \n",
       "3                  Education   int64                     [2, 1, 4, 3, 5]   \n",
       "4             EmployeeNumber   int64                     [1, 2, 4, 5, 7]   \n",
       "5    EnvironmentSatisfaction   int64                        [2, 3, 4, 1]   \n",
       "6             JobInvolvement   int64                        [3, 2, 4, 1]   \n",
       "7            JobSatisfaction   int64                        [4, 2, 3, 1]   \n",
       "8                MonthlyRate   int64  [19479, 24907, 2396, 23159, 16632]   \n",
       "9         NumCompaniesWorked   int64                     [8, 1, 6, 9, 0]   \n",
       "10                    Over18  object                                 [Y]   \n",
       "11         PercentSalaryHike   int64                [11, 23, 15, 12, 13]   \n",
       "12         PerformanceRating   int64                              [3, 4]   \n",
       "13  RelationshipSatisfaction   int64                        [1, 4, 2, 3]   \n",
       "14          StockOptionLevel   int64                        [0, 1, 3, 2]   \n",
       "15         TotalWorkingYears   int64                   [8, 10, 7, 6, 12]   \n",
       "16     TrainingTimesLastYear   int64                     [0, 3, 2, 5, 1]   \n",
       "17           WorkLifeBalance   int64                        [1, 3, 2, 4]   \n",
       "\n",
       "    n_uniques  \n",
       "0          43  \n",
       "1           2  \n",
       "2          29  \n",
       "3           5  \n",
       "4        1470  \n",
       "5           4  \n",
       "6           4  \n",
       "7           4  \n",
       "8        1427  \n",
       "9          10  \n",
       "10          1  \n",
       "11         15  \n",
       "12          2  \n",
       "13          4  \n",
       "14          4  \n",
       "15         40  \n",
       "16          7  \n",
       "17          4  "
      ]
     },
     "execution_count": 24,
     "metadata": {},
     "output_type": "execute_result"
    }
   ],
   "source": [
    "summary_sisa"
   ]
  },
  {
   "cell_type": "code",
   "execution_count": 25,
   "metadata": {},
   "outputs": [
    {
     "data": {
      "text/plain": [
       "0                          Age\n",
       "2             DistanceFromHome\n",
       "3                    Education\n",
       "4               EmployeeNumber\n",
       "5      EnvironmentSatisfaction\n",
       "6               JobInvolvement\n",
       "7              JobSatisfaction\n",
       "8                  MonthlyRate\n",
       "9           NumCompaniesWorked\n",
       "11           PercentSalaryHike\n",
       "12           PerformanceRating\n",
       "13    RelationshipSatisfaction\n",
       "14            StockOptionLevel\n",
       "15           TotalWorkingYears\n",
       "16       TrainingTimesLastYear\n",
       "17             WorkLifeBalance\n",
       "Name: Column, dtype: object"
      ]
     },
     "execution_count": 25,
     "metadata": {},
     "output_type": "execute_result"
    }
   ],
   "source": [
    "summary_sisa[summary_sisa['d_type']=='int64']['Column']"
   ]
  },
  {
   "cell_type": "markdown",
   "metadata": {},
   "source": [
    "# PipeLine"
   ]
  },
  {
   "cell_type": "code",
   "execution_count": 26,
   "metadata": {},
   "outputs": [],
   "source": [
    "logit_pipe_pca1 = Pipeline([\n",
    "    ('scaler', StandardScaler()),\n",
    "    ('pca', PCA(n_components=1))\n",
    "])\n",
    "\n",
    "logit_pipe_pca2 = Pipeline([\n",
    "    ('scaler', StandardScaler()),\n",
    "    ('pca', PCA(n_components=2))\n",
    "])\n",
    "\n",
    "logit_pipe_num_im = Pipeline([\n",
    "    ('imputer', SimpleImputer(strategy='mean', missing_values=np.nan)),\n",
    "    ('scaler', StandardScaler())\n",
    "])\n",
    "\n",
    "logit_pipe_cat_im = Pipeline([\n",
    "    ('imputer', SimpleImputer(strategy='most_frequent', missing_values=np.nan)),\n",
    "    ('onehot', OneHotEncoder(drop='first'))\n",
    "])\n",
    "\n",
    "logit_pipe_cat = Pipeline([\n",
    "    ('onehot', OneHotEncoder(drop='first')),\n",
    "])\n",
    "\n",
    "#transformer\n",
    "logit_transformer = ColumnTransformer([\n",
    "    ('pipe_num_im', logit_pipe_num_im, ['DailyRate', 'HourlyRate']),\n",
    "    ('pipe_cat_im', logit_pipe_cat_im, ['MaritalStatus']),\n",
    "    ('pipe_cat', logit_pipe_cat, one_hot_cols),\n",
    "    ('pipe_pca1',logit_pipe_pca1,['MonthlyIncome','JobLevel']),\n",
    "    ('pipe_pca2',logit_pipe_pca1,['YearsAtCompany','YearsInCurrentRole','YearsSinceLastPromotion','YearsWithCurrManager'])\n",
    "])\n",
    "\n",
    "# combine all pipeline\n",
    "logit_pipe_combine = Pipeline([\n",
    "    ('transformer', logit_transformer),\n",
    "    ('rfe', RFE(logit)),\n",
    "    ('resampling', smote),\n",
    "    ('logit', logit)\n",
    "])"
   ]
  },
  {
   "cell_type": "code",
   "execution_count": 27,
   "metadata": {},
   "outputs": [],
   "source": [
    "dtc_pipe_pca1 = Pipeline([\n",
    "    ('scaler', StandardScaler()),\n",
    "    ('pca', PCA(n_components=1))\n",
    "])\n",
    "\n",
    "dtc_pipe_pca2 = Pipeline([\n",
    "    ('scaler', StandardScaler()),\n",
    "    ('pca', PCA(n_components=2))\n",
    "])\n",
    "\n",
    "dtc_pipe_num_im = Pipeline([\n",
    "    ('imputer', SimpleImputer(strategy='mean', missing_values=np.nan)),\n",
    "    ('scaler', StandardScaler())\n",
    "])\n",
    "\n",
    "dtc_pipe_cat_im = Pipeline([\n",
    "    ('imputer', SimpleImputer(strategy='most_frequent', missing_values=np.nan)),\n",
    "    ('onehot', OneHotEncoder(drop='first'))\n",
    "])\n",
    "\n",
    "dtc_pipe_cat = Pipeline([\n",
    "    ('onehot', OneHotEncoder(drop='first')),\n",
    "])\n",
    "\n",
    "#transformer\n",
    "dtc_transformer = ColumnTransformer([\n",
    "    ('pipe_num_im', dtc_pipe_num_im, ['DailyRate', 'HourlyRate']),\n",
    "    ('pipe_cat_im', dtc_pipe_cat_im, ['MaritalStatus']),\n",
    "    ('pipe_cat', dtc_pipe_cat, one_hot_cols),\n",
    "    ('pipe_pca1',dtc_pipe_pca1,['MonthlyIncome','JobLevel']),\n",
    "    ('pipe_pca2',dtc_pipe_pca1,['YearsAtCompany','YearsInCurrentRole','YearsSinceLastPromotion','YearsWithCurrManager'])\n",
    "])\n",
    "\n",
    "#dtc\n",
    "dtc_pipe_combine = Pipeline([\n",
    "    ('transformer', dtc_transformer),\n",
    "    ('rfe', RFE(dtc)),\n",
    "    ('resampling', smote),\n",
    "    ('dtc', dtc)\n",
    "])"
   ]
  },
  {
   "cell_type": "code",
   "execution_count": 28,
   "metadata": {},
   "outputs": [],
   "source": [
    "knn = KNeighborsClassifier(n_neighbors=5)"
   ]
  },
  {
   "cell_type": "code",
   "execution_count": 29,
   "metadata": {},
   "outputs": [],
   "source": [
    "knn_pipe_combine = Pipeline([\n",
    "    ('transformer', dtc_transformer),\n",
    "    ('resampling', smote),\n",
    "    ('knn', knn)\n",
    "])"
   ]
  },
  {
   "cell_type": "markdown",
   "metadata": {},
   "source": [
    "# Data Splitting"
   ]
  },
  {
   "cell_type": "code",
   "execution_count": 30,
   "metadata": {},
   "outputs": [],
   "source": [
    "X = df.drop('Attrition', axis=1)\n",
    "y = df['Attrition']\n",
    "\n",
    "X_train_val, X_test, y_train_val, y_test = train_test_split(X, y, test_size=.2, stratify=y, random_state=2021) #check random_state"
   ]
  },
  {
   "cell_type": "markdown",
   "metadata": {},
   "source": [
    "# Modelling"
   ]
  },
  {
   "cell_type": "markdown",
   "metadata": {},
   "source": [
    "## LogisticRegression"
   ]
  },
  {
   "cell_type": "code",
   "execution_count": 31,
   "metadata": {},
   "outputs": [],
   "source": [
    "logit = LogisticRegression(random_state=2021)"
   ]
  },
  {
   "cell_type": "code",
   "execution_count": 32,
   "metadata": {},
   "outputs": [],
   "source": [
    "skfold = StratifiedKFold(n_splits = 5, random_state=2021,shuffle=True)\n",
    "logit_bench_cv = cross_val_score(logit_pipe_combine, X_train_val, y_train_val, cv = skfold, scoring='recall')"
   ]
  },
  {
   "cell_type": "code",
   "execution_count": 33,
   "metadata": {},
   "outputs": [
    {
     "data": {
      "text/plain": [
       "array([0.76315789, 0.57894737, 0.68421053, 0.65789474, 0.73684211])"
      ]
     },
     "execution_count": 33,
     "metadata": {},
     "output_type": "execute_result"
    }
   ],
   "source": [
    "logit_bench_cv"
   ]
  },
  {
   "cell_type": "code",
   "execution_count": 34,
   "metadata": {},
   "outputs": [
    {
     "data": {
      "text/plain": [
       "0.6842105263157895"
      ]
     },
     "execution_count": 34,
     "metadata": {},
     "output_type": "execute_result"
    }
   ],
   "source": [
    "logit_bench_cv.mean()"
   ]
  },
  {
   "cell_type": "markdown",
   "metadata": {},
   "source": [
    "## dtc"
   ]
  },
  {
   "cell_type": "code",
   "execution_count": 35,
   "metadata": {},
   "outputs": [],
   "source": [
    "dtc_bench_cv = cross_val_score(dtc_pipe_combine, X_train_val, y_train_val, cv = skfold, scoring='recall')"
   ]
  },
  {
   "cell_type": "code",
   "execution_count": 36,
   "metadata": {},
   "outputs": [
    {
     "data": {
      "text/plain": [
       "array([0.52631579, 0.44736842, 0.34210526, 0.36842105, 0.44736842])"
      ]
     },
     "execution_count": 36,
     "metadata": {},
     "output_type": "execute_result"
    }
   ],
   "source": [
    "dtc_bench_cv"
   ]
  },
  {
   "cell_type": "code",
   "execution_count": 37,
   "metadata": {},
   "outputs": [
    {
     "data": {
      "text/plain": [
       "0.42631578947368415"
      ]
     },
     "execution_count": 37,
     "metadata": {},
     "output_type": "execute_result"
    }
   ],
   "source": [
    "dtc_bench_cv.mean()"
   ]
  },
  {
   "cell_type": "markdown",
   "metadata": {},
   "source": [
    "# KNN"
   ]
  },
  {
   "cell_type": "code",
   "execution_count": 38,
   "metadata": {},
   "outputs": [],
   "source": [
    "knn = KNeighborsClassifier(n_neighbors=5)"
   ]
  },
  {
   "cell_type": "code",
   "execution_count": 39,
   "metadata": {},
   "outputs": [],
   "source": [
    "knn_bench_cv = cross_val_score(knn_pipe_combine, X_train_val, y_train_val, cv = skfold, scoring='recall')"
   ]
  },
  {
   "cell_type": "code",
   "execution_count": 40,
   "metadata": {},
   "outputs": [
    {
     "data": {
      "text/plain": [
       "array([0.63157895, 0.65789474, 0.44736842, 0.5       , 0.65789474])"
      ]
     },
     "execution_count": 40,
     "metadata": {},
     "output_type": "execute_result"
    }
   ],
   "source": [
    "knn_bench_cv"
   ]
  },
  {
   "cell_type": "code",
   "execution_count": 41,
   "metadata": {},
   "outputs": [
    {
     "data": {
      "text/plain": [
       "0.5789473684210527"
      ]
     },
     "execution_count": 41,
     "metadata": {},
     "output_type": "execute_result"
    }
   ],
   "source": [
    "knn_bench_cv.mean()"
   ]
  },
  {
   "cell_type": "markdown",
   "metadata": {},
   "source": [
    "# Naive Bayes"
   ]
  },
  {
   "cell_type": "code",
   "execution_count": 42,
   "metadata": {},
   "outputs": [],
   "source": [
    "from sklearn.naive_bayes import GaussianNB \n",
    "gnb = GaussianNB() "
   ]
  },
  {
   "cell_type": "markdown",
   "metadata": {},
   "source": [
    "Pipeline"
   ]
  },
  {
   "cell_type": "code",
   "execution_count": 43,
   "metadata": {},
   "outputs": [],
   "source": [
    "nb_pipe_pca1 = Pipeline([\n",
    "    ('scaler', StandardScaler()),\n",
    "    ('pca', PCA(n_components=1))\n",
    "])\n",
    "\n",
    "nb_pipe_pca2 = Pipeline([\n",
    "    ('scaler', StandardScaler()),\n",
    "    ('pca', PCA(n_components=2))\n",
    "])\n",
    "\n",
    "nb_pipe_num_im = Pipeline([\n",
    "    ('imputer', SimpleImputer(strategy='mean', missing_values=np.nan)),\n",
    "    ('scaler', StandardScaler())\n",
    "])\n",
    "\n",
    "nb_pipe_cat_im = Pipeline([\n",
    "    ('imputer', SimpleImputer(strategy='most_frequent', missing_values=np.nan)),\n",
    "    ('onehot', OneHotEncoder(drop='first'))\n",
    "])\n",
    "\n",
    "nb_pipe_cat = Pipeline([\n",
    "    ('onehot', OneHotEncoder(drop='first')),\n",
    "])\n",
    "\n",
    "#transformer\n",
    "nb_transformer = ColumnTransformer([\n",
    "    ('pipe_num_im', nb_pipe_num_im, ['DailyRate', 'HourlyRate']),\n",
    "    ('pipe_cat_im', nb_pipe_cat_im, ['MaritalStatus']),\n",
    "    ('pipe_cat', nb_pipe_cat, one_hot_cols),\n",
    "    ('pipe_pca1',nb_pipe_pca1,['MonthlyIncome','JobLevel']),\n",
    "    ('pipe_pca2',nb_pipe_pca1,['YearsAtCompany','YearsInCurrentRole','YearsSinceLastPromotion','YearsWithCurrManager'])\n",
    "])\n",
    "\n",
    "#dtc\n",
    "nb_pipe_combine = Pipeline([\n",
    "    ('transformer', nb_transformer),\n",
    "    ('resampling', smote),\n",
    "    ('naive', gnb)\n",
    "])"
   ]
  },
  {
   "cell_type": "code",
   "execution_count": 44,
   "metadata": {},
   "outputs": [],
   "source": [
    "gnb_bench_cv = cross_val_score(nb_pipe_combine, X_train_val, y_train_val, cv = skfold, scoring='recall')"
   ]
  },
  {
   "cell_type": "code",
   "execution_count": 45,
   "metadata": {},
   "outputs": [
    {
     "data": {
      "text/plain": [
       "array([0.84210526, 0.84210526, 0.89473684, 0.76315789, 0.86842105])"
      ]
     },
     "execution_count": 45,
     "metadata": {},
     "output_type": "execute_result"
    }
   ],
   "source": [
    "gnb_bench_cv"
   ]
  },
  {
   "cell_type": "code",
   "execution_count": 46,
   "metadata": {},
   "outputs": [
    {
     "data": {
      "text/plain": [
       "0.8421052631578947"
      ]
     },
     "execution_count": 46,
     "metadata": {},
     "output_type": "execute_result"
    }
   ],
   "source": [
    "gnb_bench_cv.mean()"
   ]
  },
  {
   "cell_type": "markdown",
   "metadata": {},
   "source": [
    "# Random Forest"
   ]
  },
  {
   "cell_type": "code",
   "execution_count": 47,
   "metadata": {},
   "outputs": [],
   "source": [
    "rf = RandomForestClassifier(n_estimators=100)"
   ]
  },
  {
   "cell_type": "code",
   "execution_count": 48,
   "metadata": {},
   "outputs": [],
   "source": [
    "rf_pipe_pca1 = Pipeline([\n",
    "    ('pca', PCA(n_components=1))\n",
    "])\n",
    "\n",
    "rf_pipe_pca2 = Pipeline([\n",
    "    ('pca', PCA(n_components=2))\n",
    "])\n",
    "\n",
    "rf_pipe_num_im = Pipeline([\n",
    "    ('imputer', SimpleImputer(strategy='mean', missing_values=np.nan))\n",
    "])\n",
    "\n",
    "rf_pipe_cat_im = Pipeline([\n",
    "    ('imputer', SimpleImputer(strategy='most_frequent', missing_values=np.nan)),\n",
    "    ('onehot', OneHotEncoder(drop='first'))\n",
    "])\n",
    "\n",
    "rf_pipe_cat = Pipeline([\n",
    "    ('onehot', OneHotEncoder(drop='first')),\n",
    "])\n",
    "\n",
    "#transformer\n",
    "rf_transformer = ColumnTransformer([\n",
    "    ('pipe_num_im', rf_pipe_num_im, ['DailyRate', 'HourlyRate']),\n",
    "    ('pipe_cat_im', rf_pipe_cat_im, ['MaritalStatus']),\n",
    "    ('pipe_cat', rf_pipe_cat, one_hot_cols),\n",
    "    ('pipe_pca1',rf_pipe_pca1,['MonthlyIncome','JobLevel']),\n",
    "    ('pipe_pca2',rf_pipe_pca1,['YearsAtCompany','YearsInCurrentRole','YearsSinceLastPromotion','YearsWithCurrManager'])\n",
    "])\n",
    "\n",
    "#dtc\n",
    "rf_pipe_combine = Pipeline([\n",
    "    ('transformer', rf_transformer),\n",
    "    ('randomforest', rf)\n",
    "])\n",
    "\n",
    "rf_pipe_combine_fi = Pipeline([\n",
    "    ('transformer', rf_transformer),\n",
    "    ('randomforest', rf)\n",
    "])"
   ]
  },
  {
   "cell_type": "code",
   "execution_count": 49,
   "metadata": {},
   "outputs": [],
   "source": [
    "rf_bench_cv = cross_val_score(rf_pipe_combine, X_train_val, y_train_val, cv = skfold, scoring='recall')"
   ]
  },
  {
   "cell_type": "code",
   "execution_count": 50,
   "metadata": {},
   "outputs": [
    {
     "data": {
      "text/plain": [
       "array([0.21052632, 0.15789474, 0.13157895, 0.21052632, 0.15789474])"
      ]
     },
     "execution_count": 50,
     "metadata": {},
     "output_type": "execute_result"
    }
   ],
   "source": [
    "rf_bench_cv"
   ]
  },
  {
   "cell_type": "code",
   "execution_count": 51,
   "metadata": {},
   "outputs": [
    {
     "data": {
      "text/plain": [
       "0.1736842105263158"
      ]
     },
     "execution_count": 51,
     "metadata": {},
     "output_type": "execute_result"
    }
   ],
   "source": [
    "rf_bench_cv.mean()"
   ]
  },
  {
   "cell_type": "markdown",
   "metadata": {},
   "source": [
    "### Feature Importance Random Forest"
   ]
  },
  {
   "cell_type": "code",
   "execution_count": 52,
   "metadata": {},
   "outputs": [
    {
     "data": {
      "text/plain": [
       "Pipeline(steps=[('transformer',\n",
       "                 ColumnTransformer(transformers=[('pipe_num_im',\n",
       "                                                  Pipeline(steps=[('imputer',\n",
       "                                                                   SimpleImputer())]),\n",
       "                                                  ['DailyRate', 'HourlyRate']),\n",
       "                                                 ('pipe_cat_im',\n",
       "                                                  Pipeline(steps=[('imputer',\n",
       "                                                                   SimpleImputer(strategy='most_frequent')),\n",
       "                                                                  ('onehot',\n",
       "                                                                   OneHotEncoder(drop='first'))]),\n",
       "                                                  ['MaritalStatus']),\n",
       "                                                 ('pipe_cat',\n",
       "                                                  Pipeline(steps=[('onehot',\n",
       "                                                                   OneHotEncoder(dro...\n",
       "                                                  ['BusinessTravel',\n",
       "                                                   'Department',\n",
       "                                                   'EducationField', 'Gender',\n",
       "                                                   'JobRole', 'OverTime']),\n",
       "                                                 ('pipe_pca1',\n",
       "                                                  Pipeline(steps=[('pca',\n",
       "                                                                   PCA(n_components=1))]),\n",
       "                                                  ['MonthlyIncome',\n",
       "                                                   'JobLevel']),\n",
       "                                                 ('pipe_pca2',\n",
       "                                                  Pipeline(steps=[('pca',\n",
       "                                                                   PCA(n_components=1))]),\n",
       "                                                  ['YearsAtCompany',\n",
       "                                                   'YearsInCurrentRole',\n",
       "                                                   'YearsSinceLastPromotion',\n",
       "                                                   'YearsWithCurrManager'])])),\n",
       "                ('randomforest', RandomForestClassifier())])"
      ]
     },
     "execution_count": 52,
     "metadata": {},
     "output_type": "execute_result"
    }
   ],
   "source": [
    "rf_pipe_combine_fi.fit(X_train_val, y_train_val)"
   ]
  },
  {
   "cell_type": "code",
   "execution_count": 53,
   "metadata": {},
   "outputs": [
    {
     "data": {
      "text/plain": [
       "('randomforest', RandomForestClassifier())"
      ]
     },
     "execution_count": 53,
     "metadata": {},
     "output_type": "execute_result"
    }
   ],
   "source": [
    "rf_pipe_combine.steps[1]"
   ]
  },
  {
   "cell_type": "code",
   "execution_count": 54,
   "metadata": {},
   "outputs": [],
   "source": [
    "onehot_columns_name=rf_pipe_combine.named_steps['transformer'].named_transformers_['pipe_cat'].named_steps['onehot'].get_feature_names(input_features=one_hot_cols)"
   ]
  },
  {
   "cell_type": "code",
   "execution_count": 55,
   "metadata": {},
   "outputs": [
    {
     "data": {
      "text/plain": [
       "['BusinessTravel_Travel_Frequently',\n",
       " 'BusinessTravel_Travel_Rarely',\n",
       " 'Department_Research & Development',\n",
       " 'Department_Sales',\n",
       " 'EducationField_Life Sciences',\n",
       " 'EducationField_Marketing',\n",
       " 'EducationField_Medical',\n",
       " 'EducationField_Other',\n",
       " 'EducationField_Technical Degree',\n",
       " 'Gender_Male',\n",
       " 'JobRole_Human Resources',\n",
       " 'JobRole_Laboratory Technician',\n",
       " 'JobRole_Manager',\n",
       " 'JobRole_Manufacturing Director',\n",
       " 'JobRole_Research Director',\n",
       " 'JobRole_Research Scientist',\n",
       " 'JobRole_Sales Executive',\n",
       " 'JobRole_Sales Representative',\n",
       " 'OverTime_Yes']"
      ]
     },
     "execution_count": 55,
     "metadata": {},
     "output_type": "execute_result"
    }
   ],
   "source": [
    "list(onehot_columns_name)"
   ]
  },
  {
   "cell_type": "code",
   "execution_count": 56,
   "metadata": {},
   "outputs": [],
   "source": [
    "transformer_column_name=['DailyRate', 'HourlyRate','MaritalStatus','BusinessTravel_Travel_Frequently',\n",
    " 'BusinessTravel_Travel_Rarely',\n",
    " 'Department_Research & Development',\n",
    " 'Department_Sales',\n",
    " 'EducationField_Life Sciences',\n",
    " 'EducationField_Marketing',\n",
    " 'EducationField_Medical',\n",
    " 'EducationField_Other',\n",
    " 'EducationField_Technical Degree',\n",
    " 'Gender_Male',\n",
    " 'JobRole_Human Resources',\n",
    " 'JobRole_Laboratory Technician',\n",
    " 'JobRole_Manager',\n",
    " 'JobRole_Manufacturing Director',\n",
    " 'JobRole_Research Director',\n",
    " 'JobRole_Research Scientist',\n",
    " 'JobRole_Sales Executive',\n",
    " 'JobRole_Sales Representative',\n",
    " 'OverTime_Yes',\n",
    " 'pca1',\n",
    " 'pca2_1','pca2_2']"
   ]
  },
  {
   "cell_type": "code",
   "execution_count": 57,
   "metadata": {},
   "outputs": [
    {
     "data": {
      "text/plain": [
       "['DailyRate',\n",
       " 'HourlyRate',\n",
       " 'MaritalStatus',\n",
       " 'BusinessTravel_Travel_Frequently',\n",
       " 'BusinessTravel_Travel_Rarely',\n",
       " 'Department_Research & Development',\n",
       " 'Department_Sales',\n",
       " 'EducationField_Life Sciences',\n",
       " 'EducationField_Marketing',\n",
       " 'EducationField_Medical',\n",
       " 'EducationField_Other',\n",
       " 'EducationField_Technical Degree',\n",
       " 'Gender_Male',\n",
       " 'JobRole_Human Resources',\n",
       " 'JobRole_Laboratory Technician',\n",
       " 'JobRole_Manager',\n",
       " 'JobRole_Manufacturing Director',\n",
       " 'JobRole_Research Director',\n",
       " 'JobRole_Research Scientist',\n",
       " 'JobRole_Sales Executive',\n",
       " 'JobRole_Sales Representative',\n",
       " 'OverTime_Yes',\n",
       " 'pca1',\n",
       " 'pca2_1',\n",
       " 'pca2_2']"
      ]
     },
     "execution_count": 57,
     "metadata": {},
     "output_type": "execute_result"
    }
   ],
   "source": [
    "transformer_column_name"
   ]
  },
  {
   "cell_type": "code",
   "execution_count": 58,
   "metadata": {},
   "outputs": [
    {
     "data": {
      "text/plain": [
       "RandomForestClassifier()"
      ]
     },
     "execution_count": 58,
     "metadata": {},
     "output_type": "execute_result"
    }
   ],
   "source": [
    "rf_pipe_combine.steps[1][1]"
   ]
  },
  {
   "cell_type": "code",
   "execution_count": 59,
   "metadata": {},
   "outputs": [
    {
     "data": {
      "text/plain": [
       "array([0.14564883, 0.1292522 , 0.02119607, 0.03278124, 0.02921182,\n",
       "       0.01758789, 0.011913  , 0.0115534 , 0.02080151, 0.00996819,\n",
       "       0.02046321, 0.00709213, 0.01734396, 0.02758185, 0.00634169,\n",
       "       0.02233841, 0.00338244, 0.00692168, 0.00293131, 0.01436176,\n",
       "       0.01213496, 0.01276838, 0.06988253, 0.18760131, 0.15894021])"
      ]
     },
     "execution_count": 59,
     "metadata": {},
     "output_type": "execute_result"
    }
   ],
   "source": [
    "rf_pipe_combine.steps[1][1].feature_importances_"
   ]
  },
  {
   "cell_type": "code",
   "execution_count": 60,
   "metadata": {},
   "outputs": [
    {
     "data": {
      "text/plain": [
       "DailyRate                            0.145649\n",
       "HourlyRate                           0.129252\n",
       "MaritalStatus                        0.021196\n",
       "BusinessTravel_Travel_Frequently     0.032781\n",
       "BusinessTravel_Travel_Rarely         0.029212\n",
       "Department_Research & Development    0.017588\n",
       "Department_Sales                     0.011913\n",
       "EducationField_Life Sciences         0.011553\n",
       "EducationField_Marketing             0.020802\n",
       "EducationField_Medical               0.009968\n",
       "EducationField_Other                 0.020463\n",
       "EducationField_Technical Degree      0.007092\n",
       "Gender_Male                          0.017344\n",
       "JobRole_Human Resources              0.027582\n",
       "JobRole_Laboratory Technician        0.006342\n",
       "JobRole_Manager                      0.022338\n",
       "JobRole_Manufacturing Director       0.003382\n",
       "JobRole_Research Director            0.006922\n",
       "JobRole_Research Scientist           0.002931\n",
       "JobRole_Sales Executive              0.014362\n",
       "JobRole_Sales Representative         0.012135\n",
       "OverTime_Yes                         0.012768\n",
       "pca1                                 0.069883\n",
       "pca2_1                               0.187601\n",
       "pca2_2                               0.158940\n",
       "dtype: float64"
      ]
     },
     "execution_count": 60,
     "metadata": {},
     "output_type": "execute_result"
    }
   ],
   "source": [
    "feature_importance_rf = pd.Series(data= rf_pipe_combine.steps[1][1].feature_importances_, index = np.array(transformer_column_name))\n",
    "feature_importance_rf"
   ]
  },
  {
   "cell_type": "code",
   "execution_count": 61,
   "metadata": {},
   "outputs": [
    {
     "data": {
      "text/html": [
       "<div>\n",
       "<style scoped>\n",
       "    .dataframe tbody tr th:only-of-type {\n",
       "        vertical-align: middle;\n",
       "    }\n",
       "\n",
       "    .dataframe tbody tr th {\n",
       "        vertical-align: top;\n",
       "    }\n",
       "\n",
       "    .dataframe thead th {\n",
       "        text-align: right;\n",
       "    }\n",
       "</style>\n",
       "<table border=\"1\" class=\"dataframe\">\n",
       "  <thead>\n",
       "    <tr style=\"text-align: right;\">\n",
       "      <th></th>\n",
       "      <th>feature_importance</th>\n",
       "      <th>value</th>\n",
       "    </tr>\n",
       "  </thead>\n",
       "  <tbody>\n",
       "    <tr>\n",
       "      <th>0</th>\n",
       "      <td>DailyRate</td>\n",
       "      <td>0.145649</td>\n",
       "    </tr>\n",
       "    <tr>\n",
       "      <th>1</th>\n",
       "      <td>HourlyRate</td>\n",
       "      <td>0.129252</td>\n",
       "    </tr>\n",
       "    <tr>\n",
       "      <th>2</th>\n",
       "      <td>MaritalStatus</td>\n",
       "      <td>0.021196</td>\n",
       "    </tr>\n",
       "    <tr>\n",
       "      <th>3</th>\n",
       "      <td>BusinessTravel_Travel_Frequently</td>\n",
       "      <td>0.032781</td>\n",
       "    </tr>\n",
       "    <tr>\n",
       "      <th>4</th>\n",
       "      <td>BusinessTravel_Travel_Rarely</td>\n",
       "      <td>0.029212</td>\n",
       "    </tr>\n",
       "    <tr>\n",
       "      <th>5</th>\n",
       "      <td>Department_Research &amp; Development</td>\n",
       "      <td>0.017588</td>\n",
       "    </tr>\n",
       "    <tr>\n",
       "      <th>6</th>\n",
       "      <td>Department_Sales</td>\n",
       "      <td>0.011913</td>\n",
       "    </tr>\n",
       "    <tr>\n",
       "      <th>7</th>\n",
       "      <td>EducationField_Life Sciences</td>\n",
       "      <td>0.011553</td>\n",
       "    </tr>\n",
       "    <tr>\n",
       "      <th>8</th>\n",
       "      <td>EducationField_Marketing</td>\n",
       "      <td>0.020802</td>\n",
       "    </tr>\n",
       "    <tr>\n",
       "      <th>9</th>\n",
       "      <td>EducationField_Medical</td>\n",
       "      <td>0.009968</td>\n",
       "    </tr>\n",
       "    <tr>\n",
       "      <th>10</th>\n",
       "      <td>EducationField_Other</td>\n",
       "      <td>0.020463</td>\n",
       "    </tr>\n",
       "    <tr>\n",
       "      <th>11</th>\n",
       "      <td>EducationField_Technical Degree</td>\n",
       "      <td>0.007092</td>\n",
       "    </tr>\n",
       "    <tr>\n",
       "      <th>12</th>\n",
       "      <td>Gender_Male</td>\n",
       "      <td>0.017344</td>\n",
       "    </tr>\n",
       "    <tr>\n",
       "      <th>13</th>\n",
       "      <td>JobRole_Human Resources</td>\n",
       "      <td>0.027582</td>\n",
       "    </tr>\n",
       "    <tr>\n",
       "      <th>14</th>\n",
       "      <td>JobRole_Laboratory Technician</td>\n",
       "      <td>0.006342</td>\n",
       "    </tr>\n",
       "    <tr>\n",
       "      <th>15</th>\n",
       "      <td>JobRole_Manager</td>\n",
       "      <td>0.022338</td>\n",
       "    </tr>\n",
       "    <tr>\n",
       "      <th>16</th>\n",
       "      <td>JobRole_Manufacturing Director</td>\n",
       "      <td>0.003382</td>\n",
       "    </tr>\n",
       "    <tr>\n",
       "      <th>17</th>\n",
       "      <td>JobRole_Research Director</td>\n",
       "      <td>0.006922</td>\n",
       "    </tr>\n",
       "    <tr>\n",
       "      <th>18</th>\n",
       "      <td>JobRole_Research Scientist</td>\n",
       "      <td>0.002931</td>\n",
       "    </tr>\n",
       "    <tr>\n",
       "      <th>19</th>\n",
       "      <td>JobRole_Sales Executive</td>\n",
       "      <td>0.014362</td>\n",
       "    </tr>\n",
       "    <tr>\n",
       "      <th>20</th>\n",
       "      <td>JobRole_Sales Representative</td>\n",
       "      <td>0.012135</td>\n",
       "    </tr>\n",
       "    <tr>\n",
       "      <th>21</th>\n",
       "      <td>OverTime_Yes</td>\n",
       "      <td>0.012768</td>\n",
       "    </tr>\n",
       "    <tr>\n",
       "      <th>22</th>\n",
       "      <td>pca1</td>\n",
       "      <td>0.069883</td>\n",
       "    </tr>\n",
       "    <tr>\n",
       "      <th>23</th>\n",
       "      <td>pca2_1</td>\n",
       "      <td>0.187601</td>\n",
       "    </tr>\n",
       "    <tr>\n",
       "      <th>24</th>\n",
       "      <td>pca2_2</td>\n",
       "      <td>0.158940</td>\n",
       "    </tr>\n",
       "  </tbody>\n",
       "</table>\n",
       "</div>"
      ],
      "text/plain": [
       "                   feature_importance     value\n",
       "0                           DailyRate  0.145649\n",
       "1                          HourlyRate  0.129252\n",
       "2                       MaritalStatus  0.021196\n",
       "3    BusinessTravel_Travel_Frequently  0.032781\n",
       "4        BusinessTravel_Travel_Rarely  0.029212\n",
       "5   Department_Research & Development  0.017588\n",
       "6                    Department_Sales  0.011913\n",
       "7        EducationField_Life Sciences  0.011553\n",
       "8            EducationField_Marketing  0.020802\n",
       "9              EducationField_Medical  0.009968\n",
       "10               EducationField_Other  0.020463\n",
       "11    EducationField_Technical Degree  0.007092\n",
       "12                        Gender_Male  0.017344\n",
       "13            JobRole_Human Resources  0.027582\n",
       "14      JobRole_Laboratory Technician  0.006342\n",
       "15                    JobRole_Manager  0.022338\n",
       "16     JobRole_Manufacturing Director  0.003382\n",
       "17          JobRole_Research Director  0.006922\n",
       "18         JobRole_Research Scientist  0.002931\n",
       "19            JobRole_Sales Executive  0.014362\n",
       "20       JobRole_Sales Representative  0.012135\n",
       "21                       OverTime_Yes  0.012768\n",
       "22                               pca1  0.069883\n",
       "23                             pca2_1  0.187601\n",
       "24                             pca2_2  0.158940"
      ]
     },
     "execution_count": 61,
     "metadata": {},
     "output_type": "execute_result"
    }
   ],
   "source": [
    "nama_fitur = {'feature_importance': transformer_column_name,\n",
    "        'value': rf_pipe_combine.steps[1][1].feature_importances_\n",
    "        }\n",
    "\n",
    "df_feature_importance_rf = pd.DataFrame(nama_fitur, columns = ['feature_importance', 'value'])\n",
    "df_feature_importance_rf"
   ]
  },
  {
   "cell_type": "code",
   "execution_count": 62,
   "metadata": {},
   "outputs": [
    {
     "data": {
      "image/png": "[encoded data removed]",
      "text/plain": [
       "<Figure size 720x720 with 1 Axes>"
      ]
     },
     "metadata": {
      "needs_background": "light"
     },
     "output_type": "display_data"
    }
   ],
   "source": [
    "plt.figure(figsize=(10,10))\n",
    "ax = sns.barplot(x=\"value\", y=\"feature_importance\", data=df_feature_importance_rf.sort_values(by='value', ascending=False),orient='h')\n",
    "plt.show()"
   ]
  },
  {
   "cell_type": "markdown",
   "metadata": {},
   "source": [
    "# MODELING BENCHMARK "
   ]
  },
  {
   "cell_type": "code",
   "execution_count": 63,
   "metadata": {},
   "outputs": [
    {
     "data": {
      "text/plain": [
       "Pipeline(steps=[('transformer',\n",
       "                 ColumnTransformer(transformers=[('pipe_num_im',\n",
       "                                                  Pipeline(steps=[('imputer',\n",
       "                                                                   SimpleImputer()),\n",
       "                                                                  ('scaler',\n",
       "                                                                   StandardScaler())]),\n",
       "                                                  ['DailyRate', 'HourlyRate']),\n",
       "                                                 ('pipe_cat_im',\n",
       "                                                  Pipeline(steps=[('imputer',\n",
       "                                                                   SimpleImputer(strategy='most_frequent')),\n",
       "                                                                  ('onehot',\n",
       "                                                                   OneHotEncoder(drop='first'))]),\n",
       "                                                  ['MaritalStatus']),\n",
       "                                                 ('pipe_cat',\n",
       "                                                  Pipeline(steps=...\n",
       "                                                                   PCA(n_components=1))]),\n",
       "                                                  ['MonthlyIncome',\n",
       "                                                   'JobLevel']),\n",
       "                                                 ('pipe_pca2',\n",
       "                                                  Pipeline(steps=[('scaler',\n",
       "                                                                   StandardScaler()),\n",
       "                                                                  ('pca',\n",
       "                                                                   PCA(n_components=1))]),\n",
       "                                                  ['YearsAtCompany',\n",
       "                                                   'YearsInCurrentRole',\n",
       "                                                   'YearsSinceLastPromotion',\n",
       "                                                   'YearsWithCurrManager'])])),\n",
       "                ('rfe', RFE(estimator=LogisticRegression(random_state=2021))),\n",
       "                ('resampling', SMOTE()),\n",
       "                ('logit', LogisticRegression(random_state=2021))])"
      ]
     },
     "execution_count": 63,
     "metadata": {},
     "output_type": "execute_result"
    }
   ],
   "source": [
    "logit_pipe_combine"
   ]
  },
  {
   "cell_type": "code",
   "execution_count": 64,
   "metadata": {},
   "outputs": [],
   "source": [
    "model_logit_default = logit_pipe_combine.fit(X_train_val, y_train_val)\n",
    "y_pred_logit_default = model_logit_default.predict(X_test) "
   ]
  },
  {
   "cell_type": "code",
   "execution_count": 66,
   "metadata": {},
   "outputs": [],
   "source": [
    "def make_confusion_matrix(conf_matrix):\n",
    "    tn, fp, fn, tp = conf_matrix.ravel()\n",
    "    conf_df = pd.DataFrame(\n",
    "        {'p_0': [tn, fn, tn+fn], 'p_1': [fp, tp, fp+tp]}, index = ['a_0', 'a_1', 'total_prediction']\n",
    "    )\n",
    "    conf_df['total_actual'] = conf_df['p_0'] + conf_df['p_1']\n",
    "    return conf_df"
   ]
  },
  {
   "cell_type": "code",
   "execution_count": 65,
   "metadata": {},
   "outputs": [
    {
     "name": "stdout",
     "output_type": "stream",
     "text": [
      "              precision    recall  f1-score   support\n",
      "\n",
      "           0       0.92      0.70      0.80       247\n",
      "           1       0.30      0.68      0.42        47\n",
      "\n",
      "    accuracy                           0.70       294\n",
      "   macro avg       0.61      0.69      0.61       294\n",
      "weighted avg       0.82      0.70      0.74       294\n",
      "\n"
     ]
    }
   ],
   "source": [
    "print(classification_report(y_test, y_pred_logit_default))"
   ]
  },
  {
   "cell_type": "code",
   "execution_count": 67,
   "metadata": {},
   "outputs": [
    {
     "data": {
      "text/html": [
       "<div>\n",
       "<style scoped>\n",
       "    .dataframe tbody tr th:only-of-type {\n",
       "        vertical-align: middle;\n",
       "    }\n",
       "\n",
       "    .dataframe tbody tr th {\n",
       "        vertical-align: top;\n",
       "    }\n",
       "\n",
       "    .dataframe thead th {\n",
       "        text-align: right;\n",
       "    }\n",
       "</style>\n",
       "<table border=\"1\" class=\"dataframe\">\n",
       "  <thead>\n",
       "    <tr style=\"text-align: right;\">\n",
       "      <th></th>\n",
       "      <th>p_0</th>\n",
       "      <th>p_1</th>\n",
       "      <th>total_actual</th>\n",
       "    </tr>\n",
       "  </thead>\n",
       "  <tbody>\n",
       "    <tr>\n",
       "      <th>a_0</th>\n",
       "      <td>173</td>\n",
       "      <td>74</td>\n",
       "      <td>247</td>\n",
       "    </tr>\n",
       "    <tr>\n",
       "      <th>a_1</th>\n",
       "      <td>15</td>\n",
       "      <td>32</td>\n",
       "      <td>47</td>\n",
       "    </tr>\n",
       "    <tr>\n",
       "      <th>total_prediction</th>\n",
       "      <td>188</td>\n",
       "      <td>106</td>\n",
       "      <td>294</td>\n",
       "    </tr>\n",
       "  </tbody>\n",
       "</table>\n",
       "</div>"
      ],
      "text/plain": [
       "                  p_0  p_1  total_actual\n",
       "a_0               173   74           247\n",
       "a_1                15   32            47\n",
       "total_prediction  188  106           294"
      ]
     },
     "execution_count": 67,
     "metadata": {},
     "output_type": "execute_result"
    }
   ],
   "source": [
    "make_confusion_matrix(confusion_matrix(y_test, y_pred_logit_default))"
   ]
  },
  {
   "cell_type": "markdown",
   "metadata": {},
   "source": [
    "## Logit Tuned"
   ]
  },
  {
   "cell_type": "code",
   "execution_count": 68,
   "metadata": {},
   "outputs": [],
   "source": [
    "logit_params = {\n",
    "    'logit__C': [100,10,1,0.1,0.01,0.001],\n",
    "    'logit__solver': ['lbfgs', 'liblinear', 'newton-cg']\n",
    "}"
   ]
  },
  {
   "cell_type": "code",
   "execution_count": 69,
   "metadata": {},
   "outputs": [
    {
     "data": {
      "text/plain": [
       "GridSearchCV(cv=StratifiedKFold(n_splits=5, random_state=2021, shuffle=True),\n",
       "             estimator=Pipeline(steps=[('transformer',\n",
       "                                        ColumnTransformer(transformers=[('pipe_num_im',\n",
       "                                                                         Pipeline(steps=[('imputer',\n",
       "                                                                                          SimpleImputer()),\n",
       "                                                                                         ('scaler',\n",
       "                                                                                          StandardScaler())]),\n",
       "                                                                         ['DailyRate',\n",
       "                                                                          'HourlyRate']),\n",
       "                                                                        ('pipe_cat_im',\n",
       "                                                                         Pipeline(steps=[('imputer',\n",
       "                                                                                          SimpleImputer(strategy='most_frequent')),\n",
       "                                                                                         ('...\n",
       "                                                                                          PCA(n_components=1))]),\n",
       "                                                                         ['YearsAtCompany',\n",
       "                                                                          'YearsInCurrentRole',\n",
       "                                                                          'YearsSinceLastPromotion',\n",
       "                                                                          'YearsWithCurrManager'])])),\n",
       "                                       ('rfe',\n",
       "                                        RFE(estimator=LogisticRegression(random_state=2021))),\n",
       "                                       ('resampling', SMOTE()),\n",
       "                                       ('logit',\n",
       "                                        LogisticRegression(random_state=2021))]),\n",
       "             param_grid={'logit__C': [100, 10, 1, 0.1, 0.01, 0.001],\n",
       "                         'logit__solver': ['lbfgs', 'liblinear', 'newton-cg']},\n",
       "             scoring='recall')"
      ]
     },
     "execution_count": 69,
     "metadata": {},
     "output_type": "execute_result"
    }
   ],
   "source": [
    "gridsearch = GridSearchCV(logit_pipe_combine, logit_params, scoring='recall', cv=skfold)\n",
    "gridsearch.fit(X_train_val, y_train_val)"
   ]
  },
  {
   "cell_type": "code",
   "execution_count": 70,
   "metadata": {},
   "outputs": [
    {
     "data": {
      "text/plain": [
       "{'logit__C': 0.001, 'logit__solver': 'liblinear'}"
      ]
     },
     "execution_count": 70,
     "metadata": {},
     "output_type": "execute_result"
    }
   ],
   "source": [
    "gridsearch.best_params_"
   ]
  },
  {
   "cell_type": "code",
   "execution_count": 71,
   "metadata": {},
   "outputs": [
    {
     "data": {
      "text/plain": [
       "Pipeline(steps=[('transformer',\n",
       "                 ColumnTransformer(transformers=[('pipe_num_im',\n",
       "                                                  Pipeline(steps=[('imputer',\n",
       "                                                                   SimpleImputer()),\n",
       "                                                                  ('scaler',\n",
       "                                                                   StandardScaler())]),\n",
       "                                                  ['DailyRate', 'HourlyRate']),\n",
       "                                                 ('pipe_cat_im',\n",
       "                                                  Pipeline(steps=[('imputer',\n",
       "                                                                   SimpleImputer(strategy='most_frequent')),\n",
       "                                                                  ('onehot',\n",
       "                                                                   OneHotEncoder(drop='first'))]),\n",
       "                                                  ['MaritalStatus']),\n",
       "                                                 ('pipe_cat',\n",
       "                                                  Pipeline(steps=...\n",
       "                                                   'JobLevel']),\n",
       "                                                 ('pipe_pca2',\n",
       "                                                  Pipeline(steps=[('scaler',\n",
       "                                                                   StandardScaler()),\n",
       "                                                                  ('pca',\n",
       "                                                                   PCA(n_components=1))]),\n",
       "                                                  ['YearsAtCompany',\n",
       "                                                   'YearsInCurrentRole',\n",
       "                                                   'YearsSinceLastPromotion',\n",
       "                                                   'YearsWithCurrManager'])])),\n",
       "                ('rfe', RFE(estimator=LogisticRegression(random_state=2021))),\n",
       "                ('resampling', SMOTE()),\n",
       "                ('logit',\n",
       "                 LogisticRegression(C=0.001, random_state=2021,\n",
       "                                    solver='liblinear'))])"
      ]
     },
     "execution_count": 71,
     "metadata": {},
     "output_type": "execute_result"
    }
   ],
   "source": [
    "logit_tuned = gridsearch.best_estimator_\n",
    "logit_tuned"
   ]
  },
  {
   "cell_type": "code",
   "execution_count": 72,
   "metadata": {},
   "outputs": [],
   "source": [
    "model_logit_tuned=logit_tuned.fit(X_train_val, y_train_val)\n",
    "y_pred_logit_tuned= model_logit_tuned.predict(X_test) "
   ]
  },
  {
   "cell_type": "code",
   "execution_count": 73,
   "metadata": {},
   "outputs": [
    {
     "name": "stdout",
     "output_type": "stream",
     "text": [
      "              precision    recall  f1-score   support\n",
      "\n",
      "           0       0.90      0.42      0.57       247\n",
      "           1       0.20      0.77      0.32        47\n",
      "\n",
      "    accuracy                           0.48       294\n",
      "   macro avg       0.55      0.59      0.45       294\n",
      "weighted avg       0.79      0.48      0.53       294\n",
      "\n"
     ]
    }
   ],
   "source": [
    "print(classification_report(y_test, y_pred_logit_tuned))"
   ]
  },
  {
   "cell_type": "code",
   "execution_count": 74,
   "metadata": {},
   "outputs": [
    {
     "data": {
      "text/html": [
       "<div>\n",
       "<style scoped>\n",
       "    .dataframe tbody tr th:only-of-type {\n",
       "        vertical-align: middle;\n",
       "    }\n",
       "\n",
       "    .dataframe tbody tr th {\n",
       "        vertical-align: top;\n",
       "    }\n",
       "\n",
       "    .dataframe thead th {\n",
       "        text-align: right;\n",
       "    }\n",
       "</style>\n",
       "<table border=\"1\" class=\"dataframe\">\n",
       "  <thead>\n",
       "    <tr style=\"text-align: right;\">\n",
       "      <th></th>\n",
       "      <th>p_0</th>\n",
       "      <th>p_1</th>\n",
       "      <th>total_actual</th>\n",
       "    </tr>\n",
       "  </thead>\n",
       "  <tbody>\n",
       "    <tr>\n",
       "      <th>a_0</th>\n",
       "      <td>104</td>\n",
       "      <td>143</td>\n",
       "      <td>247</td>\n",
       "    </tr>\n",
       "    <tr>\n",
       "      <th>a_1</th>\n",
       "      <td>11</td>\n",
       "      <td>36</td>\n",
       "      <td>47</td>\n",
       "    </tr>\n",
       "    <tr>\n",
       "      <th>total_prediction</th>\n",
       "      <td>115</td>\n",
       "      <td>179</td>\n",
       "      <td>294</td>\n",
       "    </tr>\n",
       "  </tbody>\n",
       "</table>\n",
       "</div>"
      ],
      "text/plain": [
       "                  p_0  p_1  total_actual\n",
       "a_0               104  143           247\n",
       "a_1                11   36            47\n",
       "total_prediction  115  179           294"
      ]
     },
     "execution_count": 74,
     "metadata": {},
     "output_type": "execute_result"
    }
   ],
   "source": [
    "make_confusion_matrix(confusion_matrix(y_test, y_pred_logit_tuned))"
   ]
  },
  {
   "cell_type": "markdown",
   "metadata": {},
   "source": [
    "# KNN Benchmark"
   ]
  },
  {
   "cell_type": "code",
   "execution_count": 95,
   "metadata": {},
   "outputs": [],
   "source": [
    "model_knn_default=knn_pipe_combine.fit(X_train_val, y_train_val)\n",
    "y_pred_knn_default= model_knn_default.predict(X_test) "
   ]
  },
  {
   "cell_type": "code",
   "execution_count": 96,
   "metadata": {},
   "outputs": [
    {
     "name": "stdout",
     "output_type": "stream",
     "text": [
      "              precision    recall  f1-score   support\n",
      "\n",
      "           0       0.90      0.68      0.77       247\n",
      "           1       0.27      0.62      0.37        47\n",
      "\n",
      "    accuracy                           0.67       294\n",
      "   macro avg       0.58      0.65      0.57       294\n",
      "weighted avg       0.80      0.67      0.71       294\n",
      "\n"
     ]
    }
   ],
   "source": [
    "print(classification_report(y_test, y_pred_knn_default))"
   ]
  },
  {
   "cell_type": "code",
   "execution_count": 97,
   "metadata": {},
   "outputs": [
    {
     "data": {
      "text/html": [
       "<div>\n",
       "<style scoped>\n",
       "    .dataframe tbody tr th:only-of-type {\n",
       "        vertical-align: middle;\n",
       "    }\n",
       "\n",
       "    .dataframe tbody tr th {\n",
       "        vertical-align: top;\n",
       "    }\n",
       "\n",
       "    .dataframe thead th {\n",
       "        text-align: right;\n",
       "    }\n",
       "</style>\n",
       "<table border=\"1\" class=\"dataframe\">\n",
       "  <thead>\n",
       "    <tr style=\"text-align: right;\">\n",
       "      <th></th>\n",
       "      <th>p_0</th>\n",
       "      <th>p_1</th>\n",
       "      <th>total_actual</th>\n",
       "    </tr>\n",
       "  </thead>\n",
       "  <tbody>\n",
       "    <tr>\n",
       "      <th>a_0</th>\n",
       "      <td>167</td>\n",
       "      <td>80</td>\n",
       "      <td>247</td>\n",
       "    </tr>\n",
       "    <tr>\n",
       "      <th>a_1</th>\n",
       "      <td>18</td>\n",
       "      <td>29</td>\n",
       "      <td>47</td>\n",
       "    </tr>\n",
       "    <tr>\n",
       "      <th>total_prediction</th>\n",
       "      <td>185</td>\n",
       "      <td>109</td>\n",
       "      <td>294</td>\n",
       "    </tr>\n",
       "  </tbody>\n",
       "</table>\n",
       "</div>"
      ],
      "text/plain": [
       "                  p_0  p_1  total_actual\n",
       "a_0               167   80           247\n",
       "a_1                18   29            47\n",
       "total_prediction  185  109           294"
      ]
     },
     "execution_count": 97,
     "metadata": {},
     "output_type": "execute_result"
    }
   ],
   "source": [
    "make_confusion_matrix(confusion_matrix(y_test, y_pred_knn_default))"
   ]
  },
  {
   "cell_type": "markdown",
   "metadata": {},
   "source": [
    "# KNN Tuned"
   ]
  },
  {
   "cell_type": "code",
   "execution_count": 75,
   "metadata": {},
   "outputs": [],
   "source": [
    "knn_params={\n",
    "    'knn__n_neighbors':[3,5,7,9,11,15,19],\n",
    "    'knn__weights':['uniform','distance'],\n",
    "    'knn__metric':['minkowski','euclidean','manhattan']\n",
    "}"
   ]
  },
  {
   "cell_type": "code",
   "execution_count": 76,
   "metadata": {},
   "outputs": [
    {
     "data": {
      "text/plain": [
       "GridSearchCV(cv=StratifiedKFold(n_splits=5, random_state=2021, shuffle=True),\n",
       "             estimator=Pipeline(steps=[('transformer',\n",
       "                                        ColumnTransformer(transformers=[('pipe_num_im',\n",
       "                                                                         Pipeline(steps=[('imputer',\n",
       "                                                                                          SimpleImputer()),\n",
       "                                                                                         ('scaler',\n",
       "                                                                                          StandardScaler())]),\n",
       "                                                                         ['DailyRate',\n",
       "                                                                          'HourlyRate']),\n",
       "                                                                        ('pipe_cat_im',\n",
       "                                                                         Pipeline(steps=[('imputer',\n",
       "                                                                                          SimpleImputer(strategy='most_frequent')),\n",
       "                                                                                         ('...\n",
       "                                                                                          StandardScaler()),\n",
       "                                                                                         ('pca',\n",
       "                                                                                          PCA(n_components=1))]),\n",
       "                                                                         ['YearsAtCompany',\n",
       "                                                                          'YearsInCurrentRole',\n",
       "                                                                          'YearsSinceLastPromotion',\n",
       "                                                                          'YearsWithCurrManager'])])),\n",
       "                                       ('resampling', SMOTE()),\n",
       "                                       ('knn', KNeighborsClassifier())]),\n",
       "             param_grid={'knn__metric': ['minkowski', 'euclidean', 'manhattan'],\n",
       "                         'knn__n_neighbors': [3, 5, 7, 9, 11, 15, 19],\n",
       "                         'knn__weights': ['uniform', 'distance']},\n",
       "             scoring='recall')"
      ]
     },
     "execution_count": 76,
     "metadata": {},
     "output_type": "execute_result"
    }
   ],
   "source": [
    "gridsearch_knn = GridSearchCV(knn_pipe_combine, knn_params, scoring='recall', cv=skfold)\n",
    "gridsearch_knn.fit(X_train_val, y_train_val)"
   ]
  },
  {
   "cell_type": "code",
   "execution_count": 77,
   "metadata": {},
   "outputs": [
    {
     "data": {
      "text/plain": [
       "{'knn__metric': 'euclidean', 'knn__n_neighbors': 19, 'knn__weights': 'uniform'}"
      ]
     },
     "execution_count": 77,
     "metadata": {},
     "output_type": "execute_result"
    }
   ],
   "source": [
    "gridsearch_knn.best_params_"
   ]
  },
  {
   "cell_type": "code",
   "execution_count": 78,
   "metadata": {},
   "outputs": [
    {
     "data": {
      "text/plain": [
       "Pipeline(steps=[('transformer',\n",
       "                 ColumnTransformer(transformers=[('pipe_num_im',\n",
       "                                                  Pipeline(steps=[('imputer',\n",
       "                                                                   SimpleImputer()),\n",
       "                                                                  ('scaler',\n",
       "                                                                   StandardScaler())]),\n",
       "                                                  ['DailyRate', 'HourlyRate']),\n",
       "                                                 ('pipe_cat_im',\n",
       "                                                  Pipeline(steps=[('imputer',\n",
       "                                                                   SimpleImputer(strategy='most_frequent')),\n",
       "                                                                  ('onehot',\n",
       "                                                                   OneHotEncoder(drop='first'))]),\n",
       "                                                  ['MaritalStatus']),\n",
       "                                                 ('pipe_cat',\n",
       "                                                  Pipeline(steps=...\n",
       "                                                  Pipeline(steps=[('scaler',\n",
       "                                                                   StandardScaler()),\n",
       "                                                                  ('pca',\n",
       "                                                                   PCA(n_components=1))]),\n",
       "                                                  ['MonthlyIncome',\n",
       "                                                   'JobLevel']),\n",
       "                                                 ('pipe_pca2',\n",
       "                                                  Pipeline(steps=[('scaler',\n",
       "                                                                   StandardScaler()),\n",
       "                                                                  ('pca',\n",
       "                                                                   PCA(n_components=1))]),\n",
       "                                                  ['YearsAtCompany',\n",
       "                                                   'YearsInCurrentRole',\n",
       "                                                   'YearsSinceLastPromotion',\n",
       "                                                   'YearsWithCurrManager'])])),\n",
       "                ('resampling', SMOTE()),\n",
       "                ('knn',\n",
       "                 KNeighborsClassifier(metric='euclidean', n_neighbors=19))])"
      ]
     },
     "execution_count": 78,
     "metadata": {},
     "output_type": "execute_result"
    }
   ],
   "source": [
    "knn_tuned = gridsearch_knn.best_estimator_\n",
    "knn_tuned"
   ]
  },
  {
   "cell_type": "code",
   "execution_count": 79,
   "metadata": {},
   "outputs": [],
   "source": [
    "model_knn_tuned=knn_tuned.fit(X_train_val, y_train_val)\n",
    "y_pred_knn_tuned= model_knn_tuned.predict(X_test) "
   ]
  },
  {
   "cell_type": "code",
   "execution_count": 80,
   "metadata": {},
   "outputs": [
    {
     "name": "stdout",
     "output_type": "stream",
     "text": [
      "              precision    recall  f1-score   support\n",
      "\n",
      "           0       0.93      0.61      0.73       247\n",
      "           1       0.27      0.74      0.39        47\n",
      "\n",
      "    accuracy                           0.63       294\n",
      "   macro avg       0.60      0.68      0.56       294\n",
      "weighted avg       0.82      0.63      0.68       294\n",
      "\n"
     ]
    }
   ],
   "source": [
    "print(classification_report(y_test, y_pred_knn_tuned))"
   ]
  },
  {
   "cell_type": "code",
   "execution_count": 81,
   "metadata": {},
   "outputs": [
    {
     "data": {
      "text/html": [
       "<div>\n",
       "<style scoped>\n",
       "    .dataframe tbody tr th:only-of-type {\n",
       "        vertical-align: middle;\n",
       "    }\n",
       "\n",
       "    .dataframe tbody tr th {\n",
       "        vertical-align: top;\n",
       "    }\n",
       "\n",
       "    .dataframe thead th {\n",
       "        text-align: right;\n",
       "    }\n",
       "</style>\n",
       "<table border=\"1\" class=\"dataframe\">\n",
       "  <thead>\n",
       "    <tr style=\"text-align: right;\">\n",
       "      <th></th>\n",
       "      <th>p_0</th>\n",
       "      <th>p_1</th>\n",
       "      <th>total_actual</th>\n",
       "    </tr>\n",
       "  </thead>\n",
       "  <tbody>\n",
       "    <tr>\n",
       "      <th>a_0</th>\n",
       "      <td>150</td>\n",
       "      <td>97</td>\n",
       "      <td>247</td>\n",
       "    </tr>\n",
       "    <tr>\n",
       "      <th>a_1</th>\n",
       "      <td>12</td>\n",
       "      <td>35</td>\n",
       "      <td>47</td>\n",
       "    </tr>\n",
       "    <tr>\n",
       "      <th>total_prediction</th>\n",
       "      <td>162</td>\n",
       "      <td>132</td>\n",
       "      <td>294</td>\n",
       "    </tr>\n",
       "  </tbody>\n",
       "</table>\n",
       "</div>"
      ],
      "text/plain": [
       "                  p_0  p_1  total_actual\n",
       "a_0               150   97           247\n",
       "a_1                12   35            47\n",
       "total_prediction  162  132           294"
      ]
     },
     "execution_count": 81,
     "metadata": {},
     "output_type": "execute_result"
    }
   ],
   "source": [
    "make_confusion_matrix(confusion_matrix(y_test, y_pred_knn_tuned))"
   ]
  },
  {
   "cell_type": "markdown",
   "metadata": {},
   "source": [
    "KNN Tuned Recall 1: 0.74"
   ]
  },
  {
   "cell_type": "markdown",
   "metadata": {},
   "source": [
    "# Naive Bayes Benchmark"
   ]
  },
  {
   "cell_type": "code",
   "execution_count": 99,
   "metadata": {},
   "outputs": [],
   "source": [
    "model_nb_default=nb_pipe_combine.fit(X_train_val, y_train_val)\n",
    "y_pred_nb_default= model_nb_default.predict(X_test) "
   ]
  },
  {
   "cell_type": "code",
   "execution_count": 100,
   "metadata": {},
   "outputs": [
    {
     "name": "stdout",
     "output_type": "stream",
     "text": [
      "              precision    recall  f1-score   support\n",
      "\n",
      "           0       0.89      0.35      0.50       247\n",
      "           1       0.18      0.77      0.30        47\n",
      "\n",
      "    accuracy                           0.41       294\n",
      "   macro avg       0.53      0.56      0.40       294\n",
      "weighted avg       0.77      0.41      0.47       294\n",
      "\n"
     ]
    }
   ],
   "source": [
    "print(classification_report(y_test, y_pred_nb_default))"
   ]
  },
  {
   "cell_type": "code",
   "execution_count": 101,
   "metadata": {},
   "outputs": [
    {
     "data": {
      "text/html": [
       "<div>\n",
       "<style scoped>\n",
       "    .dataframe tbody tr th:only-of-type {\n",
       "        vertical-align: middle;\n",
       "    }\n",
       "\n",
       "    .dataframe tbody tr th {\n",
       "        vertical-align: top;\n",
       "    }\n",
       "\n",
       "    .dataframe thead th {\n",
       "        text-align: right;\n",
       "    }\n",
       "</style>\n",
       "<table border=\"1\" class=\"dataframe\">\n",
       "  <thead>\n",
       "    <tr style=\"text-align: right;\">\n",
       "      <th></th>\n",
       "      <th>p_0</th>\n",
       "      <th>p_1</th>\n",
       "      <th>total_actual</th>\n",
       "    </tr>\n",
       "  </thead>\n",
       "  <tbody>\n",
       "    <tr>\n",
       "      <th>a_0</th>\n",
       "      <td>86</td>\n",
       "      <td>161</td>\n",
       "      <td>247</td>\n",
       "    </tr>\n",
       "    <tr>\n",
       "      <th>a_1</th>\n",
       "      <td>11</td>\n",
       "      <td>36</td>\n",
       "      <td>47</td>\n",
       "    </tr>\n",
       "    <tr>\n",
       "      <th>total_prediction</th>\n",
       "      <td>97</td>\n",
       "      <td>197</td>\n",
       "      <td>294</td>\n",
       "    </tr>\n",
       "  </tbody>\n",
       "</table>\n",
       "</div>"
      ],
      "text/plain": [
       "                  p_0  p_1  total_actual\n",
       "a_0                86  161           247\n",
       "a_1                11   36            47\n",
       "total_prediction   97  197           294"
      ]
     },
     "execution_count": 101,
     "metadata": {},
     "output_type": "execute_result"
    }
   ],
   "source": [
    "make_confusion_matrix(confusion_matrix(y_test, y_pred_nb_default))"
   ]
  },
  {
   "cell_type": "code",
   "execution_count": 98,
   "metadata": {},
   "outputs": [
    {
     "data": {
      "text/plain": [
       "Pipeline(steps=[('transformer',\n",
       "                 ColumnTransformer(transformers=[('pipe_num_im',\n",
       "                                                  Pipeline(steps=[('imputer',\n",
       "                                                                   SimpleImputer()),\n",
       "                                                                  ('scaler',\n",
       "                                                                   StandardScaler())]),\n",
       "                                                  ['DailyRate', 'HourlyRate']),\n",
       "                                                 ('pipe_cat_im',\n",
       "                                                  Pipeline(steps=[('imputer',\n",
       "                                                                   SimpleImputer(strategy='most_frequent')),\n",
       "                                                                  ('onehot',\n",
       "                                                                   OneHotEncoder(drop='first'))]),\n",
       "                                                  ['MaritalStatus']),\n",
       "                                                 ('pipe_cat',\n",
       "                                                  Pipeline(steps=...\n",
       "                                                   'JobRole', 'OverTime']),\n",
       "                                                 ('pipe_pca1',\n",
       "                                                  Pipeline(steps=[('scaler',\n",
       "                                                                   StandardScaler()),\n",
       "                                                                  ('pca',\n",
       "                                                                   PCA(n_components=1))]),\n",
       "                                                  ['MonthlyIncome',\n",
       "                                                   'JobLevel']),\n",
       "                                                 ('pipe_pca2',\n",
       "                                                  Pipeline(steps=[('scaler',\n",
       "                                                                   StandardScaler()),\n",
       "                                                                  ('pca',\n",
       "                                                                   PCA(n_components=1))]),\n",
       "                                                  ['YearsAtCompany',\n",
       "                                                   'YearsInCurrentRole',\n",
       "                                                   'YearsSinceLastPromotion',\n",
       "                                                   'YearsWithCurrManager'])])),\n",
       "                ('resampling', SMOTE()), ('naive', GaussianNB())])"
      ]
     },
     "execution_count": 98,
     "metadata": {},
     "output_type": "execute_result"
    }
   ],
   "source": [
    "nb_pipe_combine"
   ]
  },
  {
   "cell_type": "markdown",
   "metadata": {},
   "source": [
    "# Random Forest Benchmark"
   ]
  },
  {
   "cell_type": "code",
   "execution_count": 103,
   "metadata": {},
   "outputs": [],
   "source": [
    "model_rf_default=rf_pipe_combine.fit(X_train_val, y_train_val)\n",
    "y_pred_rf_default= model_rf_default.predict(X_test) "
   ]
  },
  {
   "cell_type": "code",
   "execution_count": 104,
   "metadata": {},
   "outputs": [
    {
     "name": "stdout",
     "output_type": "stream",
     "text": [
      "              precision    recall  f1-score   support\n",
      "\n",
      "           0       0.88      0.98      0.93       247\n",
      "           1       0.72      0.28      0.40        47\n",
      "\n",
      "    accuracy                           0.87       294\n",
      "   macro avg       0.80      0.63      0.66       294\n",
      "weighted avg       0.85      0.87      0.84       294\n",
      "\n"
     ]
    }
   ],
   "source": [
    "print(classification_report(y_test, y_pred_rf_default))"
   ]
  },
  {
   "cell_type": "code",
   "execution_count": 105,
   "metadata": {},
   "outputs": [
    {
     "data": {
      "text/html": [
       "<div>\n",
       "<style scoped>\n",
       "    .dataframe tbody tr th:only-of-type {\n",
       "        vertical-align: middle;\n",
       "    }\n",
       "\n",
       "    .dataframe tbody tr th {\n",
       "        vertical-align: top;\n",
       "    }\n",
       "\n",
       "    .dataframe thead th {\n",
       "        text-align: right;\n",
       "    }\n",
       "</style>\n",
       "<table border=\"1\" class=\"dataframe\">\n",
       "  <thead>\n",
       "    <tr style=\"text-align: right;\">\n",
       "      <th></th>\n",
       "      <th>p_0</th>\n",
       "      <th>p_1</th>\n",
       "      <th>total_actual</th>\n",
       "    </tr>\n",
       "  </thead>\n",
       "  <tbody>\n",
       "    <tr>\n",
       "      <th>a_0</th>\n",
       "      <td>242</td>\n",
       "      <td>5</td>\n",
       "      <td>247</td>\n",
       "    </tr>\n",
       "    <tr>\n",
       "      <th>a_1</th>\n",
       "      <td>34</td>\n",
       "      <td>13</td>\n",
       "      <td>47</td>\n",
       "    </tr>\n",
       "    <tr>\n",
       "      <th>total_prediction</th>\n",
       "      <td>276</td>\n",
       "      <td>18</td>\n",
       "      <td>294</td>\n",
       "    </tr>\n",
       "  </tbody>\n",
       "</table>\n",
       "</div>"
      ],
      "text/plain": [
       "                  p_0  p_1  total_actual\n",
       "a_0               242    5           247\n",
       "a_1                34   13            47\n",
       "total_prediction  276   18           294"
      ]
     },
     "execution_count": 105,
     "metadata": {},
     "output_type": "execute_result"
    }
   ],
   "source": [
    "make_confusion_matrix(confusion_matrix(y_test, y_pred_rf_default))"
   ]
  },
  {
   "cell_type": "markdown",
   "metadata": {},
   "source": [
    "# Random Forest Weighted"
   ]
  },
  {
   "cell_type": "code",
   "execution_count": 134,
   "metadata": {},
   "outputs": [],
   "source": [
    "rf_class_weight=dict({0:1.5,1:10})"
   ]
  },
  {
   "cell_type": "code",
   "execution_count": 135,
   "metadata": {},
   "outputs": [],
   "source": [
    "rf_weight = RandomForestClassifier(n_estimators=100,class_weight=rf_class_weight)"
   ]
  },
  {
   "cell_type": "code",
   "execution_count": 136,
   "metadata": {},
   "outputs": [],
   "source": [
    "rf_pipe_combine_weight = Pipeline([\n",
    "    ('transformer', rf_transformer),\n",
    "    ('randomforest_weight', rf_weight)\n",
    "])"
   ]
  },
  {
   "cell_type": "code",
   "execution_count": 137,
   "metadata": {},
   "outputs": [],
   "source": [
    "model_rf_weight_default=rf_pipe_combine_weight.fit(X_train_val, y_train_val)\n",
    "y_pred_rf_default_weight= model_rf_weight_default.predict(X_test) "
   ]
  },
  {
   "cell_type": "code",
   "execution_count": 138,
   "metadata": {},
   "outputs": [
    {
     "name": "stdout",
     "output_type": "stream",
     "text": [
      "              precision    recall  f1-score   support\n",
      "\n",
      "           0       0.88      0.99      0.93       247\n",
      "           1       0.86      0.26      0.39        47\n",
      "\n",
      "    accuracy                           0.87       294\n",
      "   macro avg       0.87      0.62      0.66       294\n",
      "weighted avg       0.87      0.87      0.84       294\n",
      "\n"
     ]
    }
   ],
   "source": [
    "print(classification_report(y_test, y_pred_rf_default_weight))"
   ]
  },
  {
   "cell_type": "code",
   "execution_count": 112,
   "metadata": {},
   "outputs": [
    {
     "data": {
      "text/html": [
       "<div>\n",
       "<style scoped>\n",
       "    .dataframe tbody tr th:only-of-type {\n",
       "        vertical-align: middle;\n",
       "    }\n",
       "\n",
       "    .dataframe tbody tr th {\n",
       "        vertical-align: top;\n",
       "    }\n",
       "\n",
       "    .dataframe thead th {\n",
       "        text-align: right;\n",
       "    }\n",
       "</style>\n",
       "<table border=\"1\" class=\"dataframe\">\n",
       "  <thead>\n",
       "    <tr style=\"text-align: right;\">\n",
       "      <th></th>\n",
       "      <th>p_0</th>\n",
       "      <th>p_1</th>\n",
       "      <th>total_actual</th>\n",
       "    </tr>\n",
       "  </thead>\n",
       "  <tbody>\n",
       "    <tr>\n",
       "      <th>a_0</th>\n",
       "      <td>244</td>\n",
       "      <td>3</td>\n",
       "      <td>247</td>\n",
       "    </tr>\n",
       "    <tr>\n",
       "      <th>a_1</th>\n",
       "      <td>36</td>\n",
       "      <td>11</td>\n",
       "      <td>47</td>\n",
       "    </tr>\n",
       "    <tr>\n",
       "      <th>total_prediction</th>\n",
       "      <td>280</td>\n",
       "      <td>14</td>\n",
       "      <td>294</td>\n",
       "    </tr>\n",
       "  </tbody>\n",
       "</table>\n",
       "</div>"
      ],
      "text/plain": [
       "                  p_0  p_1  total_actual\n",
       "a_0               244    3           247\n",
       "a_1                36   11            47\n",
       "total_prediction  280   14           294"
      ]
     },
     "execution_count": 112,
     "metadata": {},
     "output_type": "execute_result"
    }
   ],
   "source": [
    "make_confusion_matrix(confusion_matrix(y_test, y_pred_rf_default_weight))"
   ]
  },
  {
   "cell_type": "markdown",
   "metadata": {},
   "source": [
    "# Balanced Random Forest"
   ]
  },
  {
   "cell_type": "code",
   "execution_count": 117,
   "metadata": {},
   "outputs": [],
   "source": [
    "brf=BalancedRandomForestClassifier(n_estimators=100,random_state=2021)"
   ]
  },
  {
   "cell_type": "code",
   "execution_count": 143,
   "metadata": {},
   "outputs": [],
   "source": [
    "brf_pipe_combine = Pipeline([\n",
    "    ('transformer', rf_transformer),\n",
    "    ('balanced_rf', brf)\n",
    "])"
   ]
  },
  {
   "cell_type": "markdown",
   "metadata": {},
   "source": [
    "CV"
   ]
  },
  {
   "cell_type": "code",
   "execution_count": 144,
   "metadata": {},
   "outputs": [],
   "source": [
    "brf_bench_cv = cross_val_score(brf_pipe_combine, X_train_val, y_train_val, cv = skfold, scoring='recall')"
   ]
  },
  {
   "cell_type": "code",
   "execution_count": 145,
   "metadata": {},
   "outputs": [
    {
     "data": {
      "text/plain": [
       "array([0.65789474, 0.71052632, 0.78947368, 0.71052632, 0.73684211])"
      ]
     },
     "execution_count": 145,
     "metadata": {},
     "output_type": "execute_result"
    }
   ],
   "source": [
    "brf_bench_cv"
   ]
  },
  {
   "cell_type": "code",
   "execution_count": 146,
   "metadata": {},
   "outputs": [
    {
     "data": {
      "text/plain": [
       "0.7210526315789474"
      ]
     },
     "execution_count": 146,
     "metadata": {},
     "output_type": "execute_result"
    }
   ],
   "source": [
    "brf_bench_cv.mean()"
   ]
  },
  {
   "cell_type": "code",
   "execution_count": 119,
   "metadata": {},
   "outputs": [],
   "source": [
    "model_brf_default=brf_pipe_combine.fit(X_train_val, y_train_val)\n",
    "y_pred_brf_default= model_brf_default.predict(X_test) "
   ]
  },
  {
   "cell_type": "code",
   "execution_count": 120,
   "metadata": {},
   "outputs": [
    {
     "name": "stdout",
     "output_type": "stream",
     "text": [
      "              precision    recall  f1-score   support\n",
      "\n",
      "           0       0.92      0.69      0.79       247\n",
      "           1       0.29      0.68      0.41        47\n",
      "\n",
      "    accuracy                           0.69       294\n",
      "   macro avg       0.61      0.68      0.60       294\n",
      "weighted avg       0.82      0.69      0.73       294\n",
      "\n"
     ]
    }
   ],
   "source": [
    "print(classification_report(y_test, y_pred_brf_default))"
   ]
  },
  {
   "cell_type": "code",
   "execution_count": 121,
   "metadata": {},
   "outputs": [
    {
     "data": {
      "text/html": [
       "<div>\n",
       "<style scoped>\n",
       "    .dataframe tbody tr th:only-of-type {\n",
       "        vertical-align: middle;\n",
       "    }\n",
       "\n",
       "    .dataframe tbody tr th {\n",
       "        vertical-align: top;\n",
       "    }\n",
       "\n",
       "    .dataframe thead th {\n",
       "        text-align: right;\n",
       "    }\n",
       "</style>\n",
       "<table border=\"1\" class=\"dataframe\">\n",
       "  <thead>\n",
       "    <tr style=\"text-align: right;\">\n",
       "      <th></th>\n",
       "      <th>p_0</th>\n",
       "      <th>p_1</th>\n",
       "      <th>total_actual</th>\n",
       "    </tr>\n",
       "  </thead>\n",
       "  <tbody>\n",
       "    <tr>\n",
       "      <th>a_0</th>\n",
       "      <td>170</td>\n",
       "      <td>77</td>\n",
       "      <td>247</td>\n",
       "    </tr>\n",
       "    <tr>\n",
       "      <th>a_1</th>\n",
       "      <td>15</td>\n",
       "      <td>32</td>\n",
       "      <td>47</td>\n",
       "    </tr>\n",
       "    <tr>\n",
       "      <th>total_prediction</th>\n",
       "      <td>185</td>\n",
       "      <td>109</td>\n",
       "      <td>294</td>\n",
       "    </tr>\n",
       "  </tbody>\n",
       "</table>\n",
       "</div>"
      ],
      "text/plain": [
       "                  p_0  p_1  total_actual\n",
       "a_0               170   77           247\n",
       "a_1                15   32            47\n",
       "total_prediction  185  109           294"
      ]
     },
     "execution_count": 121,
     "metadata": {},
     "output_type": "execute_result"
    }
   ],
   "source": [
    "make_confusion_matrix(confusion_matrix(y_test, y_pred_brf_default))"
   ]
  },
  {
   "cell_type": "markdown",
   "metadata": {},
   "source": [
    "## BRF Tuned"
   ]
  },
  {
   "cell_type": "code",
   "execution_count": 153,
   "metadata": {},
   "outputs": [],
   "source": [
    "brf_params={'balanced_rf__min_samples_split': [2, 5, 10],\n",
    " 'balanced_rf__n_estimators': [200, 400, 600, 800, 1000, 1200, 1400, 1600, 1800, 2000]}"
   ]
  },
  {
   "cell_type": "code",
   "execution_count": 154,
   "metadata": {},
   "outputs": [
    {
     "data": {
      "text/plain": [
       "GridSearchCV(cv=StratifiedKFold(n_splits=5, random_state=2021, shuffle=True),\n",
       "             estimator=Pipeline(steps=[('transformer',\n",
       "                                        ColumnTransformer(transformers=[('pipe_num_im',\n",
       "                                                                         Pipeline(steps=[('imputer',\n",
       "                                                                                          SimpleImputer())]),\n",
       "                                                                         ['DailyRate',\n",
       "                                                                          'HourlyRate']),\n",
       "                                                                        ('pipe_cat_im',\n",
       "                                                                         Pipeline(steps=[('imputer',\n",
       "                                                                                          SimpleImputer(strategy='most_frequent')),\n",
       "                                                                                         ('onehot',\n",
       "                                                                                          OneHotEncoder(drop='...\n",
       "                                                                         Pipeline(steps=[('pca',\n",
       "                                                                                          PCA(n_components=1))]),\n",
       "                                                                         ['YearsAtCompany',\n",
       "                                                                          'YearsInCurrentRole',\n",
       "                                                                          'YearsSinceLastPromotion',\n",
       "                                                                          'YearsWithCurrManager'])])),\n",
       "                                       ('balanced_rf',\n",
       "                                        BalancedRandomForestClassifier(random_state=2021))]),\n",
       "             param_grid={'balanced_rf__min_samples_split': [2, 5, 10],\n",
       "                         'balanced_rf__n_estimators': [200, 400, 600, 800, 1000,\n",
       "                                                       1200, 1400, 1600, 1800,\n",
       "                                                       2000]},\n",
       "             scoring='recall')"
      ]
     },
     "execution_count": 154,
     "metadata": {},
     "output_type": "execute_result"
    }
   ],
   "source": [
    "gridsearch_brf = GridSearchCV(brf_pipe_combine, brf_params, scoring='recall', cv=skfold)\n",
    "gridsearch_brf.fit(X_train_val, y_train_val)"
   ]
  },
  {
   "cell_type": "code",
   "execution_count": 155,
   "metadata": {},
   "outputs": [
    {
     "data": {
      "text/plain": [
       "{'balanced_rf__min_samples_split': 2, 'balanced_rf__n_estimators': 1000}"
      ]
     },
     "execution_count": 155,
     "metadata": {},
     "output_type": "execute_result"
    }
   ],
   "source": [
    "gridsearch_brf.best_params_"
   ]
  },
  {
   "cell_type": "code",
   "execution_count": 156,
   "metadata": {},
   "outputs": [],
   "source": [
    "brf_tuned = gridsearch_brf.best_estimator_"
   ]
  },
  {
   "cell_type": "code",
   "execution_count": 157,
   "metadata": {},
   "outputs": [],
   "source": [
    "model_brf_tuned=brf_tuned.fit(X_train_val, y_train_val)\n",
    "y_pred_brf_tuned= model_brf_tuned.predict(X_test) "
   ]
  },
  {
   "cell_type": "code",
   "execution_count": 158,
   "metadata": {},
   "outputs": [
    {
     "name": "stdout",
     "output_type": "stream",
     "text": [
      "              precision    recall  f1-score   support\n",
      "\n",
      "           0       0.92      0.72      0.81       247\n",
      "           1       0.31      0.66      0.42        47\n",
      "\n",
      "    accuracy                           0.71       294\n",
      "   macro avg       0.62      0.69      0.62       294\n",
      "weighted avg       0.82      0.71      0.75       294\n",
      "\n"
     ]
    }
   ],
   "source": [
    "print(classification_report(y_test, y_pred_brf_tuned))"
   ]
  },
  {
   "cell_type": "markdown",
   "metadata": {},
   "source": [
    "# Bagging"
   ]
  },
  {
   "cell_type": "markdown",
   "metadata": {},
   "source": [
    "CV"
   ]
  },
  {
   "cell_type": "code",
   "execution_count": 129,
   "metadata": {},
   "outputs": [],
   "source": [
    "bbc=BalancedBaggingClassifier(\n",
    "        base_estimator=HistGradientBoostingClassifier(random_state=2021),\n",
    "        n_estimators=100,\n",
    "        random_state=2021)"
   ]
  },
  {
   "cell_type": "code",
   "execution_count": 130,
   "metadata": {},
   "outputs": [],
   "source": [
    "bbc_pipe_combine= Pipeline([\n",
    "    ('transformer', rf_transformer),\n",
    "    ('balanced_rf', bbc)\n",
    "])"
   ]
  },
  {
   "cell_type": "code",
   "execution_count": 139,
   "metadata": {},
   "outputs": [],
   "source": [
    "bbc_bench_cv = cross_val_score(bbc_pipe_combine, X_train_val, y_train_val, cv = skfold, scoring='recall')"
   ]
  },
  {
   "cell_type": "code",
   "execution_count": 140,
   "metadata": {},
   "outputs": [
    {
     "data": {
      "text/plain": [
       "array([0.63157895, 0.63157895, 0.65789474, 0.57894737, 0.65789474])"
      ]
     },
     "execution_count": 140,
     "metadata": {},
     "output_type": "execute_result"
    }
   ],
   "source": [
    "bbc_bench_cv"
   ]
  },
  {
   "cell_type": "code",
   "execution_count": 141,
   "metadata": {},
   "outputs": [
    {
     "data": {
      "text/plain": [
       "0.631578947368421"
      ]
     },
     "execution_count": 141,
     "metadata": {},
     "output_type": "execute_result"
    }
   ],
   "source": [
    "bbc_bench_cv.mean()"
   ]
  },
  {
   "cell_type": "code",
   "execution_count": 132,
   "metadata": {},
   "outputs": [],
   "source": [
    "model_bbc_default=bbc_pipe_combine.fit(X_train_val, y_train_val)\n",
    "y_pred_bbc_default= model_bbc_default.predict(X_test) "
   ]
  },
  {
   "cell_type": "code",
   "execution_count": 133,
   "metadata": {},
   "outputs": [
    {
     "name": "stdout",
     "output_type": "stream",
     "text": [
      "              precision    recall  f1-score   support\n",
      "\n",
      "           0       0.91      0.80      0.85       247\n",
      "           1       0.36      0.60      0.45        47\n",
      "\n",
      "    accuracy                           0.77       294\n",
      "   macro avg       0.64      0.70      0.65       294\n",
      "weighted avg       0.82      0.77      0.79       294\n",
      "\n"
     ]
    }
   ],
   "source": [
    "print(classification_report(y_test, y_pred_bbc_default))"
   ]
  },
  {
   "cell_type": "markdown",
   "metadata": {},
   "source": [
    "## Bagging Tuned"
   ]
  },
  {
   "cell_type": "code",
   "execution_count": 164,
   "metadata": {},
   "outputs": [],
   "source": [
    "bbc_params = {\n",
    " 'balanced_rf__bootstrap': [True, False],\n",
    " 'balanced_rf__bootstrap_features': [True, False],    \n",
    " 'balanced_rf__n_estimators': [5, 10, 15],\n",
    " 'balanced_rf__max_samples' : [0.6, 0.8, 1.0]\n",
    "}"
   ]
  },
  {
   "cell_type": "code",
   "execution_count": 165,
   "metadata": {},
   "outputs": [
    {
     "data": {
      "text/plain": [
       "GridSearchCV(cv=StratifiedKFold(n_splits=5, random_state=2021, shuffle=True),\n",
       "             estimator=Pipeline(steps=[('transformer',\n",
       "                                        ColumnTransformer(transformers=[('pipe_num_im',\n",
       "                                                                         Pipeline(steps=[('imputer',\n",
       "                                                                                          SimpleImputer())]),\n",
       "                                                                         ['DailyRate',\n",
       "                                                                          'HourlyRate']),\n",
       "                                                                        ('pipe_cat_im',\n",
       "                                                                         Pipeline(steps=[('imputer',\n",
       "                                                                                          SimpleImputer(strategy='most_frequent')),\n",
       "                                                                                         ('onehot',\n",
       "                                                                                          OneHotEncoder(drop='...\n",
       "                                                                          'YearsWithCurrManager'])])),\n",
       "                                       ('balanced_rf',\n",
       "                                        BalancedBaggingClassifier(base_estimator=HistGradientBoostingClassifier(random_state=2021),\n",
       "                                                                  n_estimators=100,\n",
       "                                                                  random_state=2021))]),\n",
       "             param_grid={'balanced_rf__bootstrap': [True, False],\n",
       "                         'balanced_rf__bootstrap_features': [True, False],\n",
       "                         'balanced_rf__max_samples': [0.6, 0.8, 1.0],\n",
       "                         'balanced_rf__n_estimators': [5, 10, 15]},\n",
       "             scoring='recall')"
      ]
     },
     "execution_count": 165,
     "metadata": {},
     "output_type": "execute_result"
    }
   ],
   "source": [
    "gridsearch_bbc = GridSearchCV(bbc_pipe_combine, bbc_params, scoring='recall', cv=skfold)\n",
    "gridsearch_bbc.fit(X_train_val, y_train_val)"
   ]
  },
  {
   "cell_type": "code",
   "execution_count": 167,
   "metadata": {},
   "outputs": [
    {
     "data": {
      "text/plain": [
       "{'balanced_rf__bootstrap': False,\n",
       " 'balanced_rf__bootstrap_features': False,\n",
       " 'balanced_rf__max_samples': 1.0,\n",
       " 'balanced_rf__n_estimators': 5}"
      ]
     },
     "execution_count": 167,
     "metadata": {},
     "output_type": "execute_result"
    }
   ],
   "source": [
    "gridsearch_bbc.best_params_"
   ]
  },
  {
   "cell_type": "code",
   "execution_count": 168,
   "metadata": {},
   "outputs": [],
   "source": [
    "bbc_tuned = gridsearch_bbc.best_estimator_"
   ]
  },
  {
   "cell_type": "code",
   "execution_count": 169,
   "metadata": {},
   "outputs": [],
   "source": [
    "model_bbc_tuned=bbc_tuned.fit(X_train_val, y_train_val)\n",
    "y_pred_bbc_tuned= model_bbc_tuned.predict(X_test) "
   ]
  },
  {
   "cell_type": "code",
   "execution_count": 170,
   "metadata": {},
   "outputs": [
    {
     "name": "stdout",
     "output_type": "stream",
     "text": [
      "              precision    recall  f1-score   support\n",
      "\n",
      "           0       0.92      0.70      0.80       247\n",
      "           1       0.30      0.68      0.42        47\n",
      "\n",
      "    accuracy                           0.70       294\n",
      "   macro avg       0.61      0.69      0.61       294\n",
      "weighted avg       0.82      0.70      0.74       294\n",
      "\n"
     ]
    }
   ],
   "source": [
    "print(classification_report(y_test, y_pred_bbc_tuned))"
   ]
  },
  {
   "cell_type": "markdown",
   "metadata": {},
   "source": [
    "# RF Tuned"
   ]
  },
  {
   "cell_type": "code",
   "execution_count": 147,
   "metadata": {},
   "outputs": [],
   "source": [
    "rf_params={'randomforest__min_samples_split': [2, 5, 10],\n",
    " 'randomforest__n_estimators': [200, 400, 600, 800, 1000, 1200, 1400, 1600, 1800, 2000]}"
   ]
  },
  {
   "cell_type": "code",
   "execution_count": 148,
   "metadata": {},
   "outputs": [
    {
     "data": {
      "text/plain": [
       "GridSearchCV(cv=StratifiedKFold(n_splits=5, random_state=2021, shuffle=True),\n",
       "             estimator=Pipeline(steps=[('transformer',\n",
       "                                        ColumnTransformer(transformers=[('pipe_num_im',\n",
       "                                                                         Pipeline(steps=[('imputer',\n",
       "                                                                                          SimpleImputer())]),\n",
       "                                                                         ['DailyRate',\n",
       "                                                                          'HourlyRate']),\n",
       "                                                                        ('pipe_cat_im',\n",
       "                                                                         Pipeline(steps=[('imputer',\n",
       "                                                                                          SimpleImputer(strategy='most_frequent')),\n",
       "                                                                                         ('onehot',\n",
       "                                                                                          OneHotEncoder(drop='...\n",
       "                                                                          'JobLevel']),\n",
       "                                                                        ('pipe_pca2',\n",
       "                                                                         Pipeline(steps=[('pca',\n",
       "                                                                                          PCA(n_components=1))]),\n",
       "                                                                         ['YearsAtCompany',\n",
       "                                                                          'YearsInCurrentRole',\n",
       "                                                                          'YearsSinceLastPromotion',\n",
       "                                                                          'YearsWithCurrManager'])])),\n",
       "                                       ('randomforest',\n",
       "                                        RandomForestClassifier())]),\n",
       "             param_grid={'randomforest__min_samples_split': [2, 5, 10],\n",
       "                         'randomforest__n_estimators': [200, 400, 600, 800,\n",
       "                                                        1000, 1200, 1400, 1600,\n",
       "                                                        1800, 2000]},\n",
       "             scoring='recall')"
      ]
     },
     "execution_count": 148,
     "metadata": {},
     "output_type": "execute_result"
    }
   ],
   "source": [
    "gridsearch_rf = GridSearchCV(rf_pipe_combine, rf_params, scoring='recall', cv=skfold)\n",
    "gridsearch_rf.fit(X_train_val, y_train_val)"
   ]
  },
  {
   "cell_type": "code",
   "execution_count": 149,
   "metadata": {},
   "outputs": [
    {
     "data": {
      "text/plain": [
       "{'randomforest__min_samples_split': 2, 'randomforest__n_estimators': 1200}"
      ]
     },
     "execution_count": 149,
     "metadata": {},
     "output_type": "execute_result"
    }
   ],
   "source": [
    "gridsearch_rf.best_params_"
   ]
  },
  {
   "cell_type": "code",
   "execution_count": 150,
   "metadata": {},
   "outputs": [
    {
     "data": {
      "text/plain": [
       "Pipeline(steps=[('transformer',\n",
       "                 ColumnTransformer(transformers=[('pipe_num_im',\n",
       "                                                  Pipeline(steps=[('imputer',\n",
       "                                                                   SimpleImputer())]),\n",
       "                                                  ['DailyRate', 'HourlyRate']),\n",
       "                                                 ('pipe_cat_im',\n",
       "                                                  Pipeline(steps=[('imputer',\n",
       "                                                                   SimpleImputer(strategy='most_frequent')),\n",
       "                                                                  ('onehot',\n",
       "                                                                   OneHotEncoder(drop='first'))]),\n",
       "                                                  ['MaritalStatus']),\n",
       "                                                 ('pipe_cat',\n",
       "                                                  Pipeline(steps=[('onehot',\n",
       "                                                                   OneHotEncoder(dro...\n",
       "                                                   'EducationField', 'Gender',\n",
       "                                                   'JobRole', 'OverTime']),\n",
       "                                                 ('pipe_pca1',\n",
       "                                                  Pipeline(steps=[('pca',\n",
       "                                                                   PCA(n_components=1))]),\n",
       "                                                  ['MonthlyIncome',\n",
       "                                                   'JobLevel']),\n",
       "                                                 ('pipe_pca2',\n",
       "                                                  Pipeline(steps=[('pca',\n",
       "                                                                   PCA(n_components=1))]),\n",
       "                                                  ['YearsAtCompany',\n",
       "                                                   'YearsInCurrentRole',\n",
       "                                                   'YearsSinceLastPromotion',\n",
       "                                                   'YearsWithCurrManager'])])),\n",
       "                ('randomforest', RandomForestClassifier(n_estimators=1200))])"
      ]
     },
     "execution_count": 150,
     "metadata": {},
     "output_type": "execute_result"
    }
   ],
   "source": [
    "rf_tuned = gridsearch_rf.best_estimator_\n",
    "rf_tuned"
   ]
  },
  {
   "cell_type": "code",
   "execution_count": 151,
   "metadata": {},
   "outputs": [],
   "source": [
    "model_rf_tuned=rf_tuned.fit(X_train_val, y_train_val)\n",
    "y_pred_rf_tuned= model_rf_tuned.predict(X_test) "
   ]
  },
  {
   "cell_type": "code",
   "execution_count": 152,
   "metadata": {},
   "outputs": [
    {
     "name": "stdout",
     "output_type": "stream",
     "text": [
      "              precision    recall  f1-score   support\n",
      "\n",
      "           0       0.88      0.99      0.93       247\n",
      "           1       0.87      0.28      0.42        47\n",
      "\n",
      "    accuracy                           0.88       294\n",
      "   macro avg       0.87      0.63      0.68       294\n",
      "weighted avg       0.88      0.88      0.85       294\n",
      "\n"
     ]
    }
   ],
   "source": [
    "print(classification_report(y_test, y_pred_rf_tuned))"
   ]
  },
  {
   "cell_type": "markdown",
   "metadata": {},
   "source": [
    "# DTC benchmark"
   ]
  },
  {
   "cell_type": "code",
   "execution_count": 92,
   "metadata": {},
   "outputs": [],
   "source": [
    "model_dtc_default = dtc_pipe_combine.fit(X_train_val, y_train_val)\n",
    "y_pred_dtc_default = model_dtc_default.predict(X_test) "
   ]
  },
  {
   "cell_type": "code",
   "execution_count": 93,
   "metadata": {},
   "outputs": [
    {
     "name": "stdout",
     "output_type": "stream",
     "text": [
      "              precision    recall  f1-score   support\n",
      "\n",
      "           0       0.89      0.87      0.88       247\n",
      "           1       0.40      0.45      0.42        47\n",
      "\n",
      "    accuracy                           0.81       294\n",
      "   macro avg       0.65      0.66      0.65       294\n",
      "weighted avg       0.81      0.81      0.81       294\n",
      "\n"
     ]
    }
   ],
   "source": [
    "print(classification_report(y_test, y_pred_dtc_default))"
   ]
  },
  {
   "cell_type": "code",
   "execution_count": 94,
   "metadata": {},
   "outputs": [
    {
     "data": {
      "text/html": [
       "<div>\n",
       "<style scoped>\n",
       "    .dataframe tbody tr th:only-of-type {\n",
       "        vertical-align: middle;\n",
       "    }\n",
       "\n",
       "    .dataframe tbody tr th {\n",
       "        vertical-align: top;\n",
       "    }\n",
       "\n",
       "    .dataframe thead th {\n",
       "        text-align: right;\n",
       "    }\n",
       "</style>\n",
       "<table border=\"1\" class=\"dataframe\">\n",
       "  <thead>\n",
       "    <tr style=\"text-align: right;\">\n",
       "      <th></th>\n",
       "      <th>p_0</th>\n",
       "      <th>p_1</th>\n",
       "      <th>total_actual</th>\n",
       "    </tr>\n",
       "  </thead>\n",
       "  <tbody>\n",
       "    <tr>\n",
       "      <th>a_0</th>\n",
       "      <td>216</td>\n",
       "      <td>31</td>\n",
       "      <td>247</td>\n",
       "    </tr>\n",
       "    <tr>\n",
       "      <th>a_1</th>\n",
       "      <td>26</td>\n",
       "      <td>21</td>\n",
       "      <td>47</td>\n",
       "    </tr>\n",
       "    <tr>\n",
       "      <th>total_prediction</th>\n",
       "      <td>242</td>\n",
       "      <td>52</td>\n",
       "      <td>294</td>\n",
       "    </tr>\n",
       "  </tbody>\n",
       "</table>\n",
       "</div>"
      ],
      "text/plain": [
       "                  p_0  p_1  total_actual\n",
       "a_0               216   31           247\n",
       "a_1                26   21            47\n",
       "total_prediction  242   52           294"
      ]
     },
     "execution_count": 94,
     "metadata": {},
     "output_type": "execute_result"
    }
   ],
   "source": [
    "make_confusion_matrix(confusion_matrix(y_test, y_pred_dtc_default))"
   ]
  },
  {
   "cell_type": "markdown",
   "metadata": {},
   "source": [
    "# DTC tuned"
   ]
  },
  {
   "cell_type": "code",
   "execution_count": 84,
   "metadata": {},
   "outputs": [],
   "source": [
    "dtc_params={\n",
    "    'dtc__criterion':['gini','entropy'],\n",
    "    'dtc__max_depth':range(1,10),\n",
    "    'dtc__min_samples_split':range(2,10),\n",
    "    'dtc__min_samples_leaf':range(1,5)\n",
    "}"
   ]
  },
  {
   "cell_type": "code",
   "execution_count": 85,
   "metadata": {},
   "outputs": [
    {
     "data": {
      "text/plain": [
       "GridSearchCV(cv=StratifiedKFold(n_splits=5, random_state=2021, shuffle=True),\n",
       "             estimator=Pipeline(steps=[('transformer',\n",
       "                                        ColumnTransformer(transformers=[('pipe_num_im',\n",
       "                                                                         Pipeline(steps=[('imputer',\n",
       "                                                                                          SimpleImputer()),\n",
       "                                                                                         ('scaler',\n",
       "                                                                                          StandardScaler())]),\n",
       "                                                                         ['DailyRate',\n",
       "                                                                          'HourlyRate']),\n",
       "                                                                        ('pipe_cat_im',\n",
       "                                                                         Pipeline(steps=[('imputer',\n",
       "                                                                                          SimpleImputer(strategy='most_frequent')),\n",
       "                                                                                         ('...\n",
       "                                                                          'YearsWithCurrManager'])])),\n",
       "                                       ('rfe',\n",
       "                                        RFE(estimator=DecisionTreeClassifier(max_depth=8,\n",
       "                                                                             random_state=2021))),\n",
       "                                       ('resampling', SMOTE()),\n",
       "                                       ('dtc',\n",
       "                                        DecisionTreeClassifier(max_depth=8,\n",
       "                                                               random_state=2021))]),\n",
       "             param_grid={'dtc__criterion': ['gini', 'entropy'],\n",
       "                         'dtc__max_depth': range(1, 10),\n",
       "                         'dtc__min_samples_leaf': range(1, 5),\n",
       "                         'dtc__min_samples_split': range(2, 10)},\n",
       "             scoring='recall')"
      ]
     },
     "execution_count": 85,
     "metadata": {},
     "output_type": "execute_result"
    }
   ],
   "source": [
    "gridsearch_dtc = GridSearchCV(dtc_pipe_combine, dtc_params, scoring='recall', cv=skfold)\n",
    "gridsearch_dtc.fit(X_train_val, y_train_val)"
   ]
  },
  {
   "cell_type": "code",
   "execution_count": 86,
   "metadata": {},
   "outputs": [
    {
     "data": {
      "text/plain": [
       "{'dtc__criterion': 'gini',\n",
       " 'dtc__max_depth': 2,\n",
       " 'dtc__min_samples_leaf': 4,\n",
       " 'dtc__min_samples_split': 4}"
      ]
     },
     "execution_count": 86,
     "metadata": {},
     "output_type": "execute_result"
    }
   ],
   "source": [
    "gridsearch_dtc.best_params_"
   ]
  },
  {
   "cell_type": "code",
   "execution_count": 87,
   "metadata": {},
   "outputs": [
    {
     "data": {
      "text/plain": [
       "Pipeline(steps=[('transformer',\n",
       "                 ColumnTransformer(transformers=[('pipe_num_im',\n",
       "                                                  Pipeline(steps=[('imputer',\n",
       "                                                                   SimpleImputer()),\n",
       "                                                                  ('scaler',\n",
       "                                                                   StandardScaler())]),\n",
       "                                                  ['DailyRate', 'HourlyRate']),\n",
       "                                                 ('pipe_cat_im',\n",
       "                                                  Pipeline(steps=[('imputer',\n",
       "                                                                   SimpleImputer(strategy='most_frequent')),\n",
       "                                                                  ('onehot',\n",
       "                                                                   OneHotEncoder(drop='first'))]),\n",
       "                                                  ['MaritalStatus']),\n",
       "                                                 ('pipe_cat',\n",
       "                                                  Pipeline(steps=...\n",
       "                                                  Pipeline(steps=[('scaler',\n",
       "                                                                   StandardScaler()),\n",
       "                                                                  ('pca',\n",
       "                                                                   PCA(n_components=1))]),\n",
       "                                                  ['YearsAtCompany',\n",
       "                                                   'YearsInCurrentRole',\n",
       "                                                   'YearsSinceLastPromotion',\n",
       "                                                   'YearsWithCurrManager'])])),\n",
       "                ('rfe',\n",
       "                 RFE(estimator=DecisionTreeClassifier(max_depth=8,\n",
       "                                                      random_state=2021))),\n",
       "                ('resampling', SMOTE()),\n",
       "                ('dtc',\n",
       "                 DecisionTreeClassifier(max_depth=2, min_samples_leaf=4,\n",
       "                                        min_samples_split=4,\n",
       "                                        random_state=2021))])"
      ]
     },
     "execution_count": 87,
     "metadata": {},
     "output_type": "execute_result"
    }
   ],
   "source": [
    "dtc_tuned = gridsearch_dtc.best_estimator_\n",
    "dtc_tuned"
   ]
  },
  {
   "cell_type": "code",
   "execution_count": 88,
   "metadata": {},
   "outputs": [],
   "source": [
    "model_dtc_tuned=dtc_tuned.fit(X_train_val, y_train_val)\n",
    "y_pred_dtc_tuned= model_dtc_tuned.predict(X_test) "
   ]
  },
  {
   "cell_type": "code",
   "execution_count": 89,
   "metadata": {},
   "outputs": [
    {
     "name": "stdout",
     "output_type": "stream",
     "text": [
      "              precision    recall  f1-score   support\n",
      "\n",
      "           0       0.92      0.61      0.73       247\n",
      "           1       0.26      0.70      0.38        47\n",
      "\n",
      "    accuracy                           0.63       294\n",
      "   macro avg       0.59      0.66      0.55       294\n",
      "weighted avg       0.81      0.63      0.68       294\n",
      "\n"
     ]
    }
   ],
   "source": [
    "print(classification_report(y_test, y_pred_dtc_tuned))"
   ]
  },
  {
   "cell_type": "code",
   "execution_count": 90,
   "metadata": {},
   "outputs": [
    {
     "data": {
      "text/html": [
       "<div>\n",
       "<style scoped>\n",
       "    .dataframe tbody tr th:only-of-type {\n",
       "        vertical-align: middle;\n",
       "    }\n",
       "\n",
       "    .dataframe tbody tr th {\n",
       "        vertical-align: top;\n",
       "    }\n",
       "\n",
       "    .dataframe thead th {\n",
       "        text-align: right;\n",
       "    }\n",
       "</style>\n",
       "<table border=\"1\" class=\"dataframe\">\n",
       "  <thead>\n",
       "    <tr style=\"text-align: right;\">\n",
       "      <th></th>\n",
       "      <th>p_0</th>\n",
       "      <th>p_1</th>\n",
       "      <th>total_actual</th>\n",
       "    </tr>\n",
       "  </thead>\n",
       "  <tbody>\n",
       "    <tr>\n",
       "      <th>a_0</th>\n",
       "      <td>151</td>\n",
       "      <td>96</td>\n",
       "      <td>247</td>\n",
       "    </tr>\n",
       "    <tr>\n",
       "      <th>a_1</th>\n",
       "      <td>14</td>\n",
       "      <td>33</td>\n",
       "      <td>47</td>\n",
       "    </tr>\n",
       "    <tr>\n",
       "      <th>total_prediction</th>\n",
       "      <td>165</td>\n",
       "      <td>129</td>\n",
       "      <td>294</td>\n",
       "    </tr>\n",
       "  </tbody>\n",
       "</table>\n",
       "</div>"
      ],
      "text/plain": [
       "                  p_0  p_1  total_actual\n",
       "a_0               151   96           247\n",
       "a_1                14   33            47\n",
       "total_prediction  165  129           294"
      ]
     },
     "execution_count": 90,
     "metadata": {},
     "output_type": "execute_result"
    }
   ],
   "source": [
    "make_confusion_matrix(confusion_matrix(y_test, y_pred_dtc_tuned))"
   ]
  },
  {
   "cell_type": "markdown",
   "metadata": {},
   "source": [
    "DTC Tuned recall 1: 0.7"
   ]
  }
 ],
 "metadata": {
  "kernelspec": {
   "display_name": "Python 3",
   "language": "python",
   "name": "python3"
  },
  "language_info": {
   "codemirror_mode": {
    "name": "ipython",
    "version": 3
   },
   "file_extension": ".py",
   "mimetype": "text/x-python",
   "name": "python",
   "nbconvert_exporter": "python",
   "pygments_lexer": "ipython3",
   "version": "3.7.9"
  }
 },
 "nbformat": 4,
 "nbformat_minor": 4
}
